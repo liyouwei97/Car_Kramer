{
  "nbformat": 4,
  "nbformat_minor": 0,
  "metadata": {
    "accelerator": "GPU",
    "colab": {
      "name": "Activation Function",
      "provenance": [],
      "collapsed_sections": [
        "LYmlV7Hxw1WI",
        "vkjbUUI7xA70",
        "qVI1rFycxIh2",
        "qjHRwsBzxMjJ",
        "YbQLALzUxUZR",
        "GUUD_jK5xYWF",
        "mlLOWZb3ktQS",
        "N1hD1kkavzFc",
        "gsMyn4bsq09q",
        "0yOF4C9HkVm0",
        "TPuE0zZL92jv",
        "YzTcPDIX91yo",
        "DYDzxXHf94b9",
        "MU9D52Sl97ex",
        "fU4tOMnp96Tb",
        "ttpOpReR98t3",
        "3WBQW7NswdTZ",
        "_IvpEEGuwIEy"
      ],
      "include_colab_link": true
    },
    "kernelspec": {
      "display_name": "Python 3",
      "name": "python3"
    },
    "language_info": {
      "name": "python"
    }
  },
  "cells": [
    {
      "cell_type": "markdown",
      "metadata": {
        "id": "view-in-github",
        "colab_type": "text"
      },
      "source": [
        "<a href=\"https://colab.research.google.com/github/liyouwei97/Donkey_Car_lyw/blob/master/Code/Activation_Function_NoOutput.ipynb\" target=\"_parent\"><img src=\"https://colab.research.google.com/assets/colab-badge.svg\" alt=\"Open In Colab\"/></a>"
      ]
    },
    {
      "cell_type": "markdown",
      "metadata": {
        "id": "vLPZ3EIvx2cb"
      },
      "source": [
        "**Donkey Colab 3.1.5 with GPU(TensorFlow 1.13.1)**\n",
        "\n",
        "**Donkey Colab with GPU.**\n",
        "\n",
        "**DonkeyCar version 3.1.1**\n",
        "\n",
        "**TensorFlow 1.13.1**\n",
        "\n",
        "**numpy==1.20.3**\n",
        "\n",
        "**keras==2.6**"
      ]
    },
    {
      "cell_type": "markdown",
      "metadata": {
        "id": "LYmlV7Hxw1WI"
      },
      "source": [
        "# **Modify the environment**"
      ]
    },
    {
      "cell_type": "code",
      "metadata": {
        "id": "AMfdM4fZYdA6"
      },
      "source": [
        "!pip uninstall -y tensorflow\n",
        "!pip install tensorflow-gpu==1.13.1\n",
        "# !pip install tensorflow==1.13.1\n",
        "!pip uninstall -y numpy\n",
        "!pip install numpy==1.20.3\n",
        "!pip uninstall -y keras\n",
        "!pip install keras==2.6.0"
      ],
      "execution_count": null,
      "outputs": []
    },
    {
      "cell_type": "markdown",
      "metadata": {
        "id": "vkjbUUI7xA70"
      },
      "source": [
        "# Step 1 从github上下载Donkey car源码"
      ]
    },
    {
      "cell_type": "code",
      "metadata": {
        "id": "ppybFm5nExQN"
      },
      "source": [
        "!git clone https://github.com/liyouwei97/Car_Kramer.git donkeycar\n",
        "%cd donkeycar\n",
        "%cd /content/donkeycar/donkeycar"
      ],
      "execution_count": null,
      "outputs": []
    },
    {
      "cell_type": "markdown",
      "metadata": {
        "id": "qVI1rFycxIh2"
      },
      "source": [
        "# Step 2 安装Donkey car环境"
      ]
    },
    {
      "cell_type": "code",
      "metadata": {
        "id": "D-cZLtEFErmV"
      },
      "source": [
        "!pip3 install -e .[pc]"
      ],
      "execution_count": null,
      "outputs": []
    },
    {
      "cell_type": "markdown",
      "metadata": {
        "id": "qjHRwsBzxMjJ"
      },
      "source": [
        "# Step 3 创建应用程序"
      ]
    },
    {
      "cell_type": "code",
      "metadata": {
        "id": "2KoHkD-iErp7"
      },
      "source": [
        "!donkey createcar --path /content/mycar"
      ],
      "execution_count": null,
      "outputs": []
    },
    {
      "cell_type": "markdown",
      "metadata": {
        "id": "YbQLALzUxUZR"
      },
      "source": [
        "# Step 4 加载数据集"
      ]
    },
    {
      "cell_type": "code",
      "metadata": {
        "colab": {
          "base_uri": "https://localhost:8080/"
        },
        "id": "IkBs2Ys47XEA",
        "outputId": "d3b3d23c-d62d-47bd-b17b-94c873dc3a0d"
      },
      "source": [
        "import os\n",
        "from google.colab import drive\n",
        "drive.mount('/content/drive')\n",
        "\n",
        "path = \"/content/drive/My Drive\"\n",
        "\n",
        "os.chdir(path)\n",
        "os.listdir(path)\n",
        "\n",
        "!unzip -uq /content/drive/MyDrive/tub/tub_5000.zip -d /content/mycar/data\n",
        "!unzip -uq /content/drive/MyDrive/tub/tub10000.zip -d /content/mycar/data\n",
        "!unzip -uq /content/drive/MyDrive/tub/tub_15000.zip -d /content/mycar/data\n",
        "!unzip -uq /content/drive/MyDrive/tub/tub_20000.zip -d /content/mycar/data\n",
        "!ls /content/mycar/data"
      ],
      "execution_count": null,
      "outputs": [
        {
          "output_type": "stream",
          "name": "stdout",
          "text": [
            "Mounted at /content/drive\n",
            "tub10000  tub_15000  tub_20000\ttub_5000\n"
          ]
        }
      ]
    },
    {
      "cell_type": "markdown",
      "metadata": {
        "id": "GUUD_jK5xYWF"
      },
      "source": [
        "# Step 5 开始训练模型(linear|categorical|rnn|3d|latent)5个神经网络模型\n",
        "\n",
        "这一步是进行模型的筛选\n",
        "\n",
        "我们希望找到一个训练表现选对较好模型\n",
        "\n",
        "这边的数据集任然沿用的第一篇文章的数据集\n",
        "\n",
        "目的 作为可能修改的部分为需要作出修改而准备\n",
        "\n",
        "有这个想法的原因是，我解决了通用性，就是别人的代码和我之前使用的代码我统一了下。\n",
        "\n",
        "所以现在两个Donkey car 都可以使用而且效果没有差。"
      ]
    },
    {
      "cell_type": "markdown",
      "metadata": {
        "id": "mlLOWZb3ktQS"
      },
      "source": [
        "原始模型的训练\n",
        "\n",
        "1 原始模型\n",
        "\n",
        "# Experiment 1\n",
        "\n"
      ]
    },
    {
      "cell_type": "code",
      "metadata": {
        "id": "uuY5mFVfALaz"
      },
      "source": [
        "!mkdir /content/donkeycar/Original\n",
        "!rm -rf /content/donkeycar/Original\n",
        "\n",
        "!python /content/mycar/manage.py train  --type=linear     --tub=/content/mycar/data/tub_5000  --model=/content/donkeycar/Original/Linear_model_5000.h5\n",
        "!python /content/mycar/manage.py train  --type=categorical  --tub=/content/mycar/data/tub_5000  --model=/content/donkeycar/Original/Categorical_model_5000.h5\n",
        "!python /content/mycar/manage.py train  --type=rnn      --tub=/content/mycar/data/tub_5000  --model=/content/donkeycar/Original/RNN_LSTM_model_5000.h5\n",
        "!python /content/mycar/manage.py train  --type=3d       --tub=/content/mycar/data/tub_5000  --model=/content/donkeycar/Original/3DCNN_model_5000.h5\n",
        "!python /content/mycar/manage.py train  --type=latent     --tub=/content/mycar/data/tub_5000  --model=/content/donkeycar/Original/Latent_model_5000.h5\n",
        "\n",
        "!python /content/mycar/manage.py train  --type=linear     --tub=/content/mycar/data/tub10000  --model=/content/donkeycar/Original/Linear_model_10000.h5\n",
        "!python /content/mycar/manage.py train  --type=categorical  --tub=/content/mycar/data/tub10000  --model=/content/donkeycar/Original/Categorical_model_10000.h5\n",
        "!python /content/mycar/manage.py train  --type=rnn      --tub=/content/mycar/data/tub10000  --model=/content/donkeycar/Original/RNN_LSTM_model_10000.h5\n",
        "!python /content/mycar/manage.py train  --type=3d       --tub=/content/mycar/data/tub10000  --model=/content/donkeycar/Original/3DCNN_model_10000.h5\n",
        "!python /content/mycar/manage.py train  --type=latent     --tub=/content/mycar/data/tub10000  --model=/content/donkeycar/Original/Latent_model_10000.h5\n",
        "\n",
        "!python /content/mycar/manage.py train  --type=linear     --tub=/content/mycar/data/tub_15000   --model=/content/donkeycar/Original/Linear_model_15000.h5\n",
        "!python /content/mycar/manage.py train  --type=categorical  --tub=/content/mycar/data/tub_15000   --model=/content/donkeycar/Original/Categorical_model_15000.h5\n",
        "!python /content/mycar/manage.py train  --type=rnn      --tub=/content/mycar/data/tub_15000   --model=/content/donkeycar/Original/RNN_LSTM_model_15000.h5\n",
        "!python /content/mycar/manage.py train  --type=3d       --tub=/content/mycar/data/tub_15000   --model=/content/donkeycar/Original/3DCNN_model_15000.h5\n",
        "!python /content/mycar/manage.py train  --type=latent     --tub=/content/mycar/data/tub_15000   --model=/content/donkeycar/Original/Latent_model_15000.h5\n",
        "\n",
        "!python /content/mycar/manage.py train  --type=linear     --tub=/content/mycar/data/tub_20000   --model=/content/donkeycar/Original/Linear_model_20000.h5\n",
        "!python /content/mycar/manage.py train  --type=categorical  --tub=/content/mycar/data/tub_20000   --model=/content/donkeycar/Original/Categorical_model_20000.h5\n",
        "!python /content/mycar/manage.py train  --type=rnn      --tub=/content/mycar/data/tub_20000   --model=/content/donkeycar/Original/RNN_LSTM_model_20000.h5\n",
        "!python /content/mycar/manage.py train  --type=3d       --tub=/content/mycar/data/tub_20000   --model=/content/donkeycar/Original/3DCNN_model_20000.h5\n",
        "!python /content/mycar/manage.py train  --type=latent     --tub=/content/mycar/data/tub_20000   --model=/content/donkeycar/Original/Latent_model_20000.h5"
      ],
      "execution_count": null,
      "outputs": []
    },
    {
      "cell_type": "markdown",
      "metadata": {
        "id": "N1hD1kkavzFc"
      },
      "source": [
        "# **Activation Function**\n",
        "\n",
        "修改模型的激活函数\n",
        "\n",
        "将ReLU函数统一换成现有的激活函数（纯改为一种）\n",
        "\n",
        "现阶段经过测试 有 elu | selu | softmax | softplus | softsign | tanh | sigmoid | hard_sigmoid 可用\n",
        "\n",
        "\n",
        "\n"
      ]
    },
    {
      "cell_type": "markdown",
      "metadata": {
        "id": "gsMyn4bsq09q"
      },
      "source": [
        "# Experiment 2\n",
        "\n",
        "准备阶段\n"
      ]
    },
    {
      "cell_type": "code",
      "metadata": {
        "id": "pv1nbjnEq4b6"
      },
      "source": [
        "!unzip -uq /content/donkeycar/Code/ActivationFunction.zip -d /content\n",
        "!mkdir /content/donkeycar/ActivationFunction"
      ],
      "execution_count": null,
      "outputs": []
    },
    {
      "cell_type": "markdown",
      "metadata": {
        "id": "0yOF4C9HkVm0"
      },
      "source": [
        "# 1 elu"
      ]
    },
    {
      "cell_type": "code",
      "metadata": {
        "id": "32ALRjRZ-ON-"
      },
      "source": [
        "!rm -rf /content/donkeycar/donkeycar/donkeycar/parts/keras.py\n",
        "!cp /content/ActivationFunction/elu/keras.py /content/donkeycar/donkeycar/donkeycar/parts\n",
        "!rm -rf /content/donkeycar/ActivationFunction/elu\n",
        "!mkdir /content/donkeycar/ActivationFunction/elu\n",
        "\n",
        "!python /content/mycar/manage.py train  --type=linear     \t--tub=/content/mycar/data/tub_5000  \t--model=/content/donkeycar/ActivationFunction/elu/Linear_model_5000.h5\n",
        "!python /content/mycar/manage.py train  --type=categorical  \t--tub=/content/mycar/data/tub_5000  \t--model=/content/donkeycar/ActivationFunction/elu/Categorical_model_5000.h5\n",
        "!python /content/mycar/manage.py train  --type=rnn      \t--tub=/content/mycar/data/tub_5000  \t--model=/content/donkeycar/ActivationFunction/elu/RNN_LSTM_model_5000.h5\n",
        "!python /content/mycar/manage.py train  --type=3d       \t--tub=/content/mycar/data/tub_5000  \t--model=/content/donkeycar/ActivationFunction/elu/3DCNN_model_5000.h5\n",
        "!python /content/mycar/manage.py train  --type=latent     \t--tub=/content/mycar/data/tub_5000  \t--model=/content/donkeycar/ActivationFunction/elu/Latent_model_5000.h5\n",
        "\n",
        "!python /content/mycar/manage.py train  --type=linear     \t--tub=/content/mycar/data/tub10000  \t--model=/content/donkeycar/ActivationFunction/elu/Linear_model_10000.h5\n",
        "!python /content/mycar/manage.py train  --type=categorical  \t--tub=/content/mycar/data/tub10000  \t--model=/content/donkeycar/ActivationFunction/elu/Categorical_model_10000.h5\n",
        "!python /content/mycar/manage.py train  --type=rnn      \t--tub=/content/mycar/data/tub10000  \t--model=/content/donkeycar/ActivationFunction/elu/RNN_LSTM_model_10000.h5\n",
        "!python /content/mycar/manage.py train  --type=3d       \t--tub=/content/mycar/data/tub10000  \t--model=/content/donkeycar/ActivationFunction/elu/3DCNN_model_10000.h5\n",
        "!python /content/mycar/manage.py train  --type=latent     \t--tub=/content/mycar/data/tub10000  \t--model=/content/donkeycar/ActivationFunction/elu/Latent_model_10000.h5\n",
        "\n",
        "!python /content/mycar/manage.py train  --type=linear     \t--tub=/content/mycar/data/tub_15000   \t--model=/content/donkeycar/ActivationFunction/elu/Linear_model_15000.h5\n",
        "!python /content/mycar/manage.py train  --type=categorical  \t--tub=/content/mycar/data/tub_15000   \t--model=/content/donkeycar/ActivationFunction/elu/Categorical_model_15000.h5\n",
        "!python /content/mycar/manage.py train  --type=rnn      \t--tub=/content/mycar/data/tub_15000   \t--model=/content/donkeycar/ActivationFunction/elu/RNN_LSTM_model_15000.h5\n",
        "!python /content/mycar/manage.py train  --type=3d       \t--tub=/content/mycar/data/tub_15000   \t--model=/content/donkeycar/ActivationFunction/elu/3DCNN_model_15000.h5\n",
        "!python /content/mycar/manage.py train  --type=latent     \t--tub=/content/mycar/data/tub_15000   \t--model=/content/donkeycar/ActivationFunction/elu/Latent_model_15000.h5\n",
        "\n",
        "!python /content/mycar/manage.py train  --type=linear     \t--tub=/content/mycar/data/tub_20000   \t--model=/content/donkeycar/ActivationFunction/elu/Linear_model_20000.h5\n",
        "!python /content/mycar/manage.py train  --type=categorical  \t--tub=/content/mycar/data/tub_20000   \t--model=/content/donkeycar/ActivationFunction/elu/Categorical_model_20000.h5\n",
        "!python /content/mycar/manage.py train  --type=rnn      \t--tub=/content/mycar/data/tub_20000   \t--model=/content/donkeycar/ActivationFunction/elu/RNN_LSTM_model_20000.h5\n",
        "!python /content/mycar/manage.py train  --type=3d       \t--tub=/content/mycar/data/tub_20000   \t--model=/content/donkeycar/ActivationFunction/elu/3DCNN_model_20000.h5\n",
        "!python /content/mycar/manage.py train  --type=latent     \t--tub=/content/mycar/data/tub_20000   \t--model=/content/donkeycar/ActivationFunction/elu/Latent_model_20000.h5"
      ],
      "execution_count": null,
      "outputs": []
    },
    {
      "cell_type": "markdown",
      "metadata": {
        "id": "TPuE0zZL92jv"
      },
      "source": [
        "# 2 selu"
      ]
    },
    {
      "cell_type": "code",
      "metadata": {
        "id": "dvSvye3lC-Ba"
      },
      "source": [
        "!rm -rf /content/donkeycar/donkeycar/donkeycar/parts/keras.py\n",
        "!cp /content/ActivationFunction/selu/keras.py /content/donkeycar/donkeycar/donkeycar/parts\n",
        "!rm -rf /content/donkeycar/ActivationFunction/selu\n",
        "!mkdir /content/donkeycar/ActivationFunction/selu\n",
        "\n",
        "!python /content/mycar/manage.py train  --type=linear     \t--tub=/content/mycar/data/tub_5000  \t--model=/content/donkeycar/ActivationFunction/selu/Linear_model_5000.h5\n",
        "!python /content/mycar/manage.py train  --type=categorical  \t--tub=/content/mycar/data/tub_5000  \t--model=/content/donkeycar/ActivationFunction/selu/Categorical_model_5000.h5\n",
        "!python /content/mycar/manage.py train  --type=rnn      \t--tub=/content/mycar/data/tub_5000  \t--model=/content/donkeycar/ActivationFunction/selu/RNN_LSTM_model_5000.h5\n",
        "!python /content/mycar/manage.py train  --type=3d       \t--tub=/content/mycar/data/tub_5000  \t--model=/content/donkeycar/ActivationFunction/selu/3DCNN_model_5000.h5\n",
        "!python /content/mycar/manage.py train  --type=latent     \t--tub=/content/mycar/data/tub_5000  \t--model=/content/donkeycar/ActivationFunction/selu/Latent_model_5000.h5\n",
        "\n",
        "!python /content/mycar/manage.py train  --type=linear     \t--tub=/content/mycar/data/tub10000  \t--model=/content/donkeycar/ActivationFunction/selu/Linear_model_10000.h5\n",
        "!python /content/mycar/manage.py train  --type=categorical  \t--tub=/content/mycar/data/tub10000  \t--model=/content/donkeycar/ActivationFunction/selu/Categorical_model_10000.h5\n",
        "!python /content/mycar/manage.py train  --type=rnn      \t--tub=/content/mycar/data/tub10000  \t--model=/content/donkeycar/ActivationFunction/selu/RNN_LSTM_model_10000.h5\n",
        "!python /content/mycar/manage.py train  --type=3d       \t--tub=/content/mycar/data/tub10000  \t--model=/content/donkeycar/ActivationFunction/selu/3DCNN_model_10000.h5\n",
        "!python /content/mycar/manage.py train  --type=latent     \t--tub=/content/mycar/data/tub10000  \t--model=/content/donkeycar/ActivationFunction/selu/Latent_model_10000.h5\n",
        "\n",
        "!python /content/mycar/manage.py train  --type=linear     \t--tub=/content/mycar/data/tub_15000   \t--model=/content/donkeycar/ActivationFunction/selu/Linear_model_15000.h5\n",
        "!python /content/mycar/manage.py train  --type=categorical  \t--tub=/content/mycar/data/tub_15000   \t--model=/content/donkeycar/ActivationFunction/selu/Categorical_model_15000.h5\n",
        "!python /content/mycar/manage.py train  --type=rnn      \t--tub=/content/mycar/data/tub_15000   \t--model=/content/donkeycar/ActivationFunction/selu/RNN_LSTM_model_15000.h5\n",
        "!python /content/mycar/manage.py train  --type=3d       \t--tub=/content/mycar/data/tub_15000   \t--model=/content/donkeycar/ActivationFunction/selu/3DCNN_model_15000.h5\n",
        "!python /content/mycar/manage.py train  --type=latent     \t--tub=/content/mycar/data/tub_15000   \t--model=/content/donkeycar/ActivationFunction/selu/Latent_model_15000.h5\n",
        "\n",
        "!python /content/mycar/manage.py train  --type=linear     \t--tub=/content/mycar/data/tub_20000   \t--model=/content/donkeycar/ActivationFunction/selu/Linear_model_20000.h5\n",
        "!python /content/mycar/manage.py train  --type=categorical  \t--tub=/content/mycar/data/tub_20000   \t--model=/content/donkeycar/ActivationFunction/selu/Categorical_model_20000.h5\n",
        "!python /content/mycar/manage.py train  --type=rnn      \t--tub=/content/mycar/data/tub_20000   \t--model=/content/donkeycar/ActivationFunction/selu/RNN_LSTM_model_20000.h5\n",
        "!python /content/mycar/manage.py train  --type=3d       \t--tub=/content/mycar/data/tub_20000   \t--model=/content/donkeycar/ActivationFunction/selu/3DCNN_model_20000.h5\n",
        "!python /content/mycar/manage.py train  --type=latent     \t--tub=/content/mycar/data/tub_20000   \t--model=/content/donkeycar/ActivationFunction/selu/Latent_model_20000.h5"
      ],
      "execution_count": null,
      "outputs": []
    },
    {
      "cell_type": "markdown",
      "metadata": {
        "id": "YzTcPDIX91yo"
      },
      "source": [
        "# 3 softmax"
      ]
    },
    {
      "cell_type": "code",
      "metadata": {
        "id": "gcwYSScbDkjF"
      },
      "source": [
        "!rm -rf /content/donkeycar/donkeycar/donkeycar/parts/keras.py\n",
        "!cp /content/ActivationFunction/softmax/keras.py /content/donkeycar/donkeycar/donkeycar/parts\n",
        "!rm -rf /content/donkeycar/ActivationFunction/softmax\n",
        "!mkdir /content/donkeycar/ActivationFunction/softmax\n",
        "\n",
        "!python /content/mycar/manage.py train  --type=linear     \t--tub=/content/mycar/data/tub_5000  \t--model=/content/donkeycar/ActivationFunction/softmax/Linear_model_5000.h5\n",
        "!python /content/mycar/manage.py train  --type=categorical  \t--tub=/content/mycar/data/tub_5000  \t--model=/content/donkeycar/ActivationFunction/softmax/Categorical_model_5000.h5\n",
        "!python /content/mycar/manage.py train  --type=rnn      \t--tub=/content/mycar/data/tub_5000  \t--model=/content/donkeycar/ActivationFunction/softmax/RNN_LSTM_model_5000.h5\n",
        "!python /content/mycar/manage.py train  --type=3d       \t--tub=/content/mycar/data/tub_5000  \t--model=/content/donkeycar/ActivationFunction/softmax/3DCNN_model_5000.h5\n",
        "!python /content/mycar/manage.py train  --type=latent     \t--tub=/content/mycar/data/tub_5000  \t--model=/content/donkeycar/ActivationFunction/softmax/Latent_model_5000.h5\n",
        "\n",
        "!python /content/mycar/manage.py train  --type=linear     \t--tub=/content/mycar/data/tub10000  \t--model=/content/donkeycar/ActivationFunction/softmax/Linear_model_10000.h5\n",
        "!python /content/mycar/manage.py train  --type=categorical  \t--tub=/content/mycar/data/tub10000  \t--model=/content/donkeycar/ActivationFunction/softmax/Categorical_model_10000.h5\n",
        "!python /content/mycar/manage.py train  --type=rnn      \t--tub=/content/mycar/data/tub10000  \t--model=/content/donkeycar/ActivationFunction/softmax/RNN_LSTM_model_10000.h5\n",
        "!python /content/mycar/manage.py train  --type=3d       \t--tub=/content/mycar/data/tub10000  \t--model=/content/donkeycar/ActivationFunction/softmax/3DCNN_model_10000.h5\n",
        "!python /content/mycar/manage.py train  --type=latent     \t--tub=/content/mycar/data/tub10000  \t--model=/content/donkeycar/ActivationFunction/softmax/Latent_model_10000.h5\n",
        "\n",
        "!python /content/mycar/manage.py train  --type=linear     \t--tub=/content/mycar/data/tub_15000   \t--model=/content/donkeycar/ActivationFunction/softmax/Linear_model_15000.h5\n",
        "!python /content/mycar/manage.py train  --type=categorical  \t--tub=/content/mycar/data/tub_15000   \t--model=/content/donkeycar/ActivationFunction/softmax/Categorical_model_15000.h5\n",
        "!python /content/mycar/manage.py train  --type=rnn      \t--tub=/content/mycar/data/tub_15000   \t--model=/content/donkeycar/ActivationFunction/softmax/RNN_LSTM_model_15000.h5\n",
        "!python /content/mycar/manage.py train  --type=3d       \t--tub=/content/mycar/data/tub_15000   \t--model=/content/donkeycar/ActivationFunction/softmax/3DCNN_model_15000.h5\n",
        "!python /content/mycar/manage.py train  --type=latent     \t--tub=/content/mycar/data/tub_15000   \t--model=/content/donkeycar/ActivationFunction/softmax/Latent_model_15000.h5\n",
        "\n",
        "!python /content/mycar/manage.py train  --type=linear     \t--tub=/content/mycar/data/tub_20000   \t--model=/content/donkeycar/ActivationFunction/softmax/Linear_model_20000.h5\n",
        "!python /content/mycar/manage.py train  --type=categorical  \t--tub=/content/mycar/data/tub_20000   \t--model=/content/donkeycar/ActivationFunction/softmax/Categorical_model_20000.h5\n",
        "!python /content/mycar/manage.py train  --type=rnn      \t--tub=/content/mycar/data/tub_20000   \t--model=/content/donkeycar/ActivationFunction/softmax/RNN_LSTM_model_20000.h5\n",
        "!python /content/mycar/manage.py train  --type=3d       \t--tub=/content/mycar/data/tub_20000   \t--model=/content/donkeycar/ActivationFunction/softmax/3DCNN_model_20000.h5\n",
        "!python /content/mycar/manage.py train  --type=latent     \t--tub=/content/mycar/data/tub_20000   \t--model=/content/donkeycar/ActivationFunction/softmax/Latent_model_20000.h5"
      ],
      "execution_count": null,
      "outputs": []
    },
    {
      "cell_type": "markdown",
      "metadata": {
        "id": "DYDzxXHf94b9"
      },
      "source": [
        "# 4 softplus"
      ]
    },
    {
      "cell_type": "code",
      "metadata": {
        "id": "lBTZumE9ED4P"
      },
      "source": [
        "!rm -rf /content/donkeycar/donkeycar/donkeycar/parts/keras.py\n",
        "!cp /content/ActivationFunction/softplus/keras.py /content/donkeycar/donkeycar/donkeycar/parts\n",
        "!rm -rf /content/donkeycar/ActivationFunction/softplus\n",
        "!mkdir /content/donkeycar/ActivationFunction/softplus\n",
        "\n",
        "!python /content/mycar/manage.py train  --type=linear     \t--tub=/content/mycar/data/tub_5000  \t--model=/content/donkeycar/ActivationFunction/softplus/Linear_model_5000.h5\n",
        "!python /content/mycar/manage.py train  --type=categorical  \t--tub=/content/mycar/data/tub_5000  \t--model=/content/donkeycar/ActivationFunction/softplus/Categorical_model_5000.h5\n",
        "!python /content/mycar/manage.py train  --type=rnn      \t--tub=/content/mycar/data/tub_5000  \t--model=/content/donkeycar/ActivationFunction/softplus/RNN_LSTM_model_5000.h5\n",
        "!python /content/mycar/manage.py train  --type=3d       \t--tub=/content/mycar/data/tub_5000  \t--model=/content/donkeycar/ActivationFunction/softplus/3DCNN_model_5000.h5\n",
        "!python /content/mycar/manage.py train  --type=latent     \t--tub=/content/mycar/data/tub_5000  \t--model=/content/donkeycar/ActivationFunction/softplus/Latent_model_5000.h5\n",
        "\n",
        "!python /content/mycar/manage.py train  --type=linear     \t--tub=/content/mycar/data/tub10000  \t--model=/content/donkeycar/ActivationFunction/softplus/Linear_model_10000.h5\n",
        "!python /content/mycar/manage.py train  --type=categorical  \t--tub=/content/mycar/data/tub10000  \t--model=/content/donkeycar/ActivationFunction/softplus/Categorical_model_10000.h5\n",
        "!python /content/mycar/manage.py train  --type=rnn      \t--tub=/content/mycar/data/tub10000  \t--model=/content/donkeycar/ActivationFunction/softplus/RNN_LSTM_model_10000.h5\n",
        "!python /content/mycar/manage.py train  --type=3d       \t--tub=/content/mycar/data/tub10000  \t--model=/content/donkeycar/ActivationFunction/softplus/3DCNN_model_10000.h5\n",
        "!python /content/mycar/manage.py train  --type=latent     \t--tub=/content/mycar/data/tub10000  \t--model=/content/donkeycar/ActivationFunction/softplus/Latent_model_10000.h5\n",
        "\n",
        "!python /content/mycar/manage.py train  --type=linear     \t--tub=/content/mycar/data/tub_15000   \t--model=/content/donkeycar/ActivationFunction/softplus/Linear_model_15000.h5\n",
        "!python /content/mycar/manage.py train  --type=categorical  \t--tub=/content/mycar/data/tub_15000   \t--model=/content/donkeycar/ActivationFunction/softplus/Categorical_model_15000.h5\n",
        "!python /content/mycar/manage.py train  --type=rnn      \t--tub=/content/mycar/data/tub_15000   \t--model=/content/donkeycar/ActivationFunction/softplus/RNN_LSTM_model_15000.h5\n",
        "!python /content/mycar/manage.py train  --type=3d       \t--tub=/content/mycar/data/tub_15000   \t--model=/content/donkeycar/ActivationFunction/softplus/3DCNN_model_15000.h5\n",
        "!python /content/mycar/manage.py train  --type=latent     \t--tub=/content/mycar/data/tub_15000   \t--model=/content/donkeycar/ActivationFunction/softplus/Latent_model_15000.h5\n",
        "\n",
        "!python /content/mycar/manage.py train  --type=linear     \t--tub=/content/mycar/data/tub_20000   \t--model=/content/donkeycar/ActivationFunction/softplus/Linear_model_20000.h5\n",
        "!python /content/mycar/manage.py train  --type=categorical  \t--tub=/content/mycar/data/tub_20000   \t--model=/content/donkeycar/ActivationFunction/softplus/Categorical_model_20000.h5\n",
        "!python /content/mycar/manage.py train  --type=rnn      \t--tub=/content/mycar/data/tub_20000   \t--model=/content/donkeycar/ActivationFunction/softplus/RNN_LSTM_model_20000.h5\n",
        "!python /content/mycar/manage.py train  --type=3d       \t--tub=/content/mycar/data/tub_20000   \t--model=/content/donkeycar/ActivationFunction/softplus/3DCNN_model_20000.h5\n",
        "!python /content/mycar/manage.py train  --type=latent     \t--tub=/content/mycar/data/tub_20000   \t--model=/content/donkeycar/ActivationFunction/softplus/Latent_model_20000.h5"
      ],
      "execution_count": null,
      "outputs": []
    },
    {
      "cell_type": "markdown",
      "metadata": {
        "id": "MU9D52Sl97ex"
      },
      "source": [
        "# 5 softsign"
      ]
    },
    {
      "cell_type": "code",
      "metadata": {
        "id": "eZ48xBE_FMF2"
      },
      "source": [
        "!rm -rf /content/donkeycar/donkeycar/donkeycar/parts/keras.py\n",
        "!cp /content/ActivationFunction/softsign/keras.py /content/donkeycar/donkeycar/donkeycar/parts\n",
        "!rm -rf /content/donkeycar/ActivationFunction/softsign\n",
        "!mkdir /content/donkeycar/ActivationFunction/softsign\n",
        "\n",
        "!python /content/mycar/manage.py train  --type=linear     \t--tub=/content/mycar/data/tub_5000  \t--model=/content/donkeycar/ActivationFunction/softsign/Linear_model_5000.h5\n",
        "!python /content/mycar/manage.py train  --type=categorical  \t--tub=/content/mycar/data/tub_5000  \t--model=/content/donkeycar/ActivationFunction/softsign/Categorical_model_5000.h5\n",
        "!python /content/mycar/manage.py train  --type=rnn      \t--tub=/content/mycar/data/tub_5000  \t--model=/content/donkeycar/ActivationFunction/softsign/RNN_LSTM_model_5000.h5\n",
        "!python /content/mycar/manage.py train  --type=3d       \t--tub=/content/mycar/data/tub_5000  \t--model=/content/donkeycar/ActivationFunction/softsign/3DCNN_model_5000.h5\n",
        "!python /content/mycar/manage.py train  --type=latent     \t--tub=/content/mycar/data/tub_5000  \t--model=/content/donkeycar/ActivationFunction/softsign/Latent_model_5000.h5\n",
        "\n",
        "!python /content/mycar/manage.py train  --type=linear     \t--tub=/content/mycar/data/tub10000  \t--model=/content/donkeycar/ActivationFunction/softsign/Linear_model_10000.h5\n",
        "!python /content/mycar/manage.py train  --type=categorical  \t--tub=/content/mycar/data/tub10000  \t--model=/content/donkeycar/ActivationFunction/softsign/Categorical_model_10000.h5\n",
        "!python /content/mycar/manage.py train  --type=rnn      \t--tub=/content/mycar/data/tub10000  \t--model=/content/donkeycar/ActivationFunction/softsign/RNN_LSTM_model_10000.h5\n",
        "!python /content/mycar/manage.py train  --type=3d       \t--tub=/content/mycar/data/tub10000  \t--model=/content/donkeycar/ActivationFunction/softsign/3DCNN_model_10000.h5\n",
        "!python /content/mycar/manage.py train  --type=latent     \t--tub=/content/mycar/data/tub10000  \t--model=/content/donkeycar/ActivationFunction/softsign/Latent_model_10000.h5\n",
        "\n",
        "!python /content/mycar/manage.py train  --type=linear     \t--tub=/content/mycar/data/tub_15000   \t--model=/content/donkeycar/ActivationFunction/softsign/Linear_model_15000.h5\n",
        "!python /content/mycar/manage.py train  --type=categorical  \t--tub=/content/mycar/data/tub_15000   \t--model=/content/donkeycar/ActivationFunction/softsign/Categorical_model_15000.h5\n",
        "!python /content/mycar/manage.py train  --type=rnn      \t--tub=/content/mycar/data/tub_15000   \t--model=/content/donkeycar/ActivationFunction/softsign/RNN_LSTM_model_15000.h5\n",
        "!python /content/mycar/manage.py train  --type=3d       \t--tub=/content/mycar/data/tub_15000   \t--model=/content/donkeycar/ActivationFunction/softsign/3DCNN_model_15000.h5\n",
        "!python /content/mycar/manage.py train  --type=latent     \t--tub=/content/mycar/data/tub_15000   \t--model=/content/donkeycar/ActivationFunction/softsign/Latent_model_15000.h5\n",
        "\n",
        "!python /content/mycar/manage.py train  --type=linear     \t--tub=/content/mycar/data/tub_20000   \t--model=/content/donkeycar/ActivationFunction/softsign/Linear_model_20000.h5\n",
        "!python /content/mycar/manage.py train  --type=categorical  \t--tub=/content/mycar/data/tub_20000   \t--model=/content/donkeycar/ActivationFunction/softsign/Categorical_model_20000.h5\n",
        "!python /content/mycar/manage.py train  --type=rnn      \t--tub=/content/mycar/data/tub_20000   \t--model=/content/donkeycar/ActivationFunction/softsign/RNN_LSTM_model_20000.h5\n",
        "!python /content/mycar/manage.py train  --type=3d       \t--tub=/content/mycar/data/tub_20000   \t--model=/content/donkeycar/ActivationFunction/softsign/3DCNN_model_20000.h5\n",
        "!python /content/mycar/manage.py train  --type=latent     \t--tub=/content/mycar/data/tub_20000   \t--model=/content/donkeycar/ActivationFunction/softsign/Latent_model_20000.h5"
      ],
      "execution_count": null,
      "outputs": []
    },
    {
      "cell_type": "markdown",
      "metadata": {
        "id": "fU4tOMnp96Tb"
      },
      "source": [
        "# 6 tanh"
      ]
    },
    {
      "cell_type": "code",
      "metadata": {
        "id": "WCvZpnwLFjsx"
      },
      "source": [
        "!rm -rf /content/donkeycar/donkeycar/donkeycar/parts/keras.py\n",
        "!cp /content/ActivationFunction/tanh/keras.py /content/donkeycar/donkeycar/donkeycar/parts\n",
        "!rm -rf /content/donkeycar/ActivationFunction/tanh\n",
        "!mkdir /content/donkeycar/ActivationFunction/tanh\n",
        "\n",
        "!python /content/mycar/manage.py train  --type=linear     \t--tub=/content/mycar/data/tub_5000  \t--model=/content/donkeycar/ActivationFunction/tanh/Linear_model_5000.h5\n",
        "!python /content/mycar/manage.py train  --type=categorical  \t--tub=/content/mycar/data/tub_5000  \t--model=/content/donkeycar/ActivationFunction/tanh/Categorical_model_5000.h5\n",
        "!python /content/mycar/manage.py train  --type=rnn      \t--tub=/content/mycar/data/tub_5000  \t--model=/content/donkeycar/ActivationFunction/tanh/RNN_LSTM_model_5000.h5\n",
        "!python /content/mycar/manage.py train  --type=3d       \t--tub=/content/mycar/data/tub_5000  \t--model=/content/donkeycar/ActivationFunction/tanh/3DCNN_model_5000.h5\n",
        "!python /content/mycar/manage.py train  --type=latent     \t--tub=/content/mycar/data/tub_5000  \t--model=/content/donkeycar/ActivationFunction/tanh/Latent_model_5000.h5\n",
        "\n",
        "!python /content/mycar/manage.py train  --type=linear     \t--tub=/content/mycar/data/tub10000  \t--model=/content/donkeycar/ActivationFunction/tanh/Linear_model_10000.h5\n",
        "!python /content/mycar/manage.py train  --type=categorical  \t--tub=/content/mycar/data/tub10000  \t--model=/content/donkeycar/ActivationFunction/tanh/Categorical_model_10000.h5\n",
        "!python /content/mycar/manage.py train  --type=rnn      \t--tub=/content/mycar/data/tub10000  \t--model=/content/donkeycar/ActivationFunction/tanh/RNN_LSTM_model_10000.h5\n",
        "!python /content/mycar/manage.py train  --type=3d       \t--tub=/content/mycar/data/tub10000  \t--model=/content/donkeycar/ActivationFunction/tanh/3DCNN_model_10000.h5\n",
        "!python /content/mycar/manage.py train  --type=latent     \t--tub=/content/mycar/data/tub10000  \t--model=/content/donkeycar/ActivationFunction/tanh/Latent_model_10000.h5\n",
        "\n",
        "!python /content/mycar/manage.py train  --type=linear     \t--tub=/content/mycar/data/tub_15000   \t--model=/content/donkeycar/ActivationFunction/tanh/Linear_model_15000.h5\n",
        "!python /content/mycar/manage.py train  --type=categorical  \t--tub=/content/mycar/data/tub_15000   \t--model=/content/donkeycar/ActivationFunction/tanh/Categorical_model_15000.h5\n",
        "!python /content/mycar/manage.py train  --type=rnn      \t--tub=/content/mycar/data/tub_15000   \t--model=/content/donkeycar/ActivationFunction/tanh/RNN_LSTM_model_15000.h5\n",
        "!python /content/mycar/manage.py train  --type=3d       \t--tub=/content/mycar/data/tub_15000   \t--model=/content/donkeycar/ActivationFunction/tanh/3DCNN_model_15000.h5\n",
        "!python /content/mycar/manage.py train  --type=latent     \t--tub=/content/mycar/data/tub_15000   \t--model=/content/donkeycar/ActivationFunction/tanh/Latent_model_15000.h5\n",
        "\n",
        "!python /content/mycar/manage.py train  --type=linear     \t--tub=/content/mycar/data/tub_20000   \t--model=/content/donkeycar/ActivationFunction/tanh/Linear_model_20000.h5\n",
        "!python /content/mycar/manage.py train  --type=categorical  \t--tub=/content/mycar/data/tub_20000   \t--model=/content/donkeycar/ActivationFunction/tanh/Categorical_model_20000.h5\n",
        "!python /content/mycar/manage.py train  --type=rnn      \t--tub=/content/mycar/data/tub_20000   \t--model=/content/donkeycar/ActivationFunction/tanh/RNN_LSTM_model_20000.h5\n",
        "!python /content/mycar/manage.py train  --type=3d       \t--tub=/content/mycar/data/tub_20000   \t--model=/content/donkeycar/ActivationFunction/tanh/3DCNN_model_20000.h5\n",
        "!python /content/mycar/manage.py train  --type=latent     \t--tub=/content/mycar/data/tub_20000   \t--model=/content/donkeycar/ActivationFunction/tanh/Latent_model_20000.h5"
      ],
      "execution_count": null,
      "outputs": []
    },
    {
      "cell_type": "markdown",
      "metadata": {
        "id": "ttpOpReR98t3"
      },
      "source": [
        "# 7 sigmoid"
      ]
    },
    {
      "cell_type": "code",
      "metadata": {
        "id": "jQJlQlNMGlMH"
      },
      "source": [
        "!rm -rf /content/donkeycar/donkeycar/donkeycar/parts/keras.py\n",
        "!cp /content/ActivationFunction/sigmoid/keras.py /content/donkeycar/donkeycar/donkeycar/parts\n",
        "!rm -rf /content/donkeycar/ActivationFunction/sigmoid\n",
        "!mkdir /content/donkeycar/ActivationFunction/sigmoid\n",
        "\n",
        "!python /content/mycar/manage.py train  --type=linear     \t--tub=/content/mycar/data/tub_5000  \t--model=/content/donkeycar/ActivationFunction/sigmoid/Linear_model_5000.h5\n",
        "!python /content/mycar/manage.py train  --type=categorical  \t--tub=/content/mycar/data/tub_5000  \t--model=/content/donkeycar/ActivationFunction/sigmoid/Categorical_model_5000.h5\n",
        "!python /content/mycar/manage.py train  --type=rnn      \t--tub=/content/mycar/data/tub_5000  \t--model=/content/donkeycar/ActivationFunction/sigmoid/RNN_LSTM_model_5000.h5\n",
        "!python /content/mycar/manage.py train  --type=3d       \t--tub=/content/mycar/data/tub_5000  \t--model=/content/donkeycar/ActivationFunction/sigmoid/3DCNN_model_5000.h5\n",
        "!python /content/mycar/manage.py train  --type=latent     \t--tub=/content/mycar/data/tub_5000  \t--model=/content/donkeycar/ActivationFunction/sigmoid/Latent_model_5000.h5\n",
        "\n",
        "!python /content/mycar/manage.py train  --type=linear     \t--tub=/content/mycar/data/tub10000  \t--model=/content/donkeycar/ActivationFunction/sigmoid/Linear_model_10000.h5\n",
        "!python /content/mycar/manage.py train  --type=categorical  \t--tub=/content/mycar/data/tub10000  \t--model=/content/donkeycar/ActivationFunction/sigmoid/Categorical_model_10000.h5\n",
        "!python /content/mycar/manage.py train  --type=rnn      \t--tub=/content/mycar/data/tub10000  \t--model=/content/donkeycar/ActivationFunction/sigmoid/RNN_LSTM_model_10000.h5\n",
        "!python /content/mycar/manage.py train  --type=3d       \t--tub=/content/mycar/data/tub10000  \t--model=/content/donkeycar/ActivationFunction/sigmoid/3DCNN_model_10000.h5\n",
        "!python /content/mycar/manage.py train  --type=latent     \t--tub=/content/mycar/data/tub10000  \t--model=/content/donkeycar/ActivationFunction/sigmoid/Latent_model_10000.h5\n",
        "\n",
        "!python /content/mycar/manage.py train  --type=linear     \t--tub=/content/mycar/data/tub_15000   \t--model=/content/donkeycar/ActivationFunction/sigmoid/Linear_model_15000.h5\n",
        "!python /content/mycar/manage.py train  --type=categorical  \t--tub=/content/mycar/data/tub_15000   \t--model=/content/donkeycar/ActivationFunction/sigmoid/Categorical_model_15000.h5\n",
        "!python /content/mycar/manage.py train  --type=rnn      \t--tub=/content/mycar/data/tub_15000   \t--model=/content/donkeycar/ActivationFunction/sigmoid/RNN_LSTM_model_15000.h5\n",
        "!python /content/mycar/manage.py train  --type=3d       \t--tub=/content/mycar/data/tub_15000   \t--model=/content/donkeycar/ActivationFunction/sigmoid/3DCNN_model_15000.h5\n",
        "!python /content/mycar/manage.py train  --type=latent     \t--tub=/content/mycar/data/tub_15000   \t--model=/content/donkeycar/ActivationFunction/sigmoid/Latent_model_15000.h5\n",
        "\n",
        "!python /content/mycar/manage.py train  --type=linear     \t--tub=/content/mycar/data/tub_20000   \t--model=/content/donkeycar/ActivationFunction/sigmoid/Linear_model_20000.h5\n",
        "!python /content/mycar/manage.py train  --type=categorical  \t--tub=/content/mycar/data/tub_20000   \t--model=/content/donkeycar/ActivationFunction/sigmoid/Categorical_model_20000.h5\n",
        "!python /content/mycar/manage.py train  --type=rnn      \t--tub=/content/mycar/data/tub_20000   \t--model=/content/donkeycar/ActivationFunction/sigmoid/RNN_LSTM_model_20000.h5\n",
        "!python /content/mycar/manage.py train  --type=3d       \t--tub=/content/mycar/data/tub_20000   \t--model=/content/donkeycar/ActivationFunction/sigmoid/3DCNN_model_20000.h5\n",
        "!python /content/mycar/manage.py train  --type=latent     \t--tub=/content/mycar/data/tub_20000   \t--model=/content/donkeycar/ActivationFunction/sigmoid/Latent_model_20000.h5"
      ],
      "execution_count": null,
      "outputs": []
    },
    {
      "cell_type": "markdown",
      "metadata": {
        "id": "3WBQW7NswdTZ"
      },
      "source": [
        "# 8 hard_sigmoid"
      ]
    },
    {
      "cell_type": "code",
      "metadata": {
        "id": "B-rVyrJVwdhl"
      },
      "source": [
        "!rm -rf /content/donkeycar/donkeycar/donkeycar/parts/keras.py\n",
        "!cp /content/ActivationFunction/hard_sigmoid/keras.py /content/donkeycar/donkeycar/donkeycar/parts\n",
        "!rm -rf /content/donkeycar/ActivationFunction/hard_sigmoid\n",
        "!mkdir /content/donkeycar/ActivationFunction/hard_sigmoid\n",
        "\n",
        "!python /content/mycar/manage.py train  --type=linear     \t--tub=/content/mycar/data/tub_5000  \t--model=/content/donkeycar/ActivationFunction/hard_sigmoid/Linear_model_5000.h5\n",
        "!python /content/mycar/manage.py train  --type=categorical  \t--tub=/content/mycar/data/tub_5000  \t--model=/content/donkeycar/ActivationFunction/hard_sigmoid/Categorical_model_5000.h5\n",
        "!python /content/mycar/manage.py train  --type=rnn      \t--tub=/content/mycar/data/tub_5000  \t--model=/content/donkeycar/ActivationFunction/hard_sigmoid/RNN_LSTM_model_5000.h5\n",
        "!python /content/mycar/manage.py train  --type=3d       \t--tub=/content/mycar/data/tub_5000  \t--model=/content/donkeycar/ActivationFunction/hard_sigmoid/3DCNN_model_5000.h5\n",
        "!python /content/mycar/manage.py train  --type=latent     \t--tub=/content/mycar/data/tub_5000  \t--model=/content/donkeycar/ActivationFunction/hard_sigmoid/Latent_model_5000.h5\n",
        "\n",
        "!python /content/mycar/manage.py train  --type=linear     \t--tub=/content/mycar/data/tub10000  \t--model=/content/donkeycar/ActivationFunction/hard_sigmoid/Linear_model_10000.h5\n",
        "!python /content/mycar/manage.py train  --type=categorical  \t--tub=/content/mycar/data/tub10000  \t--model=/content/donkeycar/ActivationFunction/hard_sigmoid/Categorical_model_10000.h5\n",
        "!python /content/mycar/manage.py train  --type=rnn      \t--tub=/content/mycar/data/tub10000  \t--model=/content/donkeycar/ActivationFunction/hard_sigmoid/RNN_LSTM_model_10000.h5\n",
        "!python /content/mycar/manage.py train  --type=3d       \t--tub=/content/mycar/data/tub10000  \t--model=/content/donkeycar/ActivationFunction/hard_sigmoid/3DCNN_model_10000.h5\n",
        "!python /content/mycar/manage.py train  --type=latent     \t--tub=/content/mycar/data/tub10000  \t--model=/content/donkeycar/ActivationFunction/hard_sigmoid/Latent_model_10000.h5\n",
        "\n",
        "!python /content/mycar/manage.py train  --type=linear     \t--tub=/content/mycar/data/tub_15000   \t--model=/content/donkeycar/ActivationFunction/hard_sigmoid/Linear_model_15000.h5\n",
        "!python /content/mycar/manage.py train  --type=categorical  \t--tub=/content/mycar/data/tub_15000   \t--model=/content/donkeycar/ActivationFunction/hard_sigmoid/Categorical_model_15000.h5\n",
        "!python /content/mycar/manage.py train  --type=rnn      \t--tub=/content/mycar/data/tub_15000   \t--model=/content/donkeycar/ActivationFunction/hard_sigmoid/RNN_LSTM_model_15000.h5\n",
        "!python /content/mycar/manage.py train  --type=3d       \t--tub=/content/mycar/data/tub_15000   \t--model=/content/donkeycar/ActivationFunction/hard_sigmoid/3DCNN_model_15000.h5\n",
        "!python /content/mycar/manage.py train  --type=latent     \t--tub=/content/mycar/data/tub_15000   \t--model=/content/donkeycar/ActivationFunction/hard_sigmoid/Latent_model_15000.h5\n",
        "\n",
        "!python /content/mycar/manage.py train  --type=linear     \t--tub=/content/mycar/data/tub_20000   \t--model=/content/donkeycar/ActivationFunction/hard_sigmoid/Linear_model_20000.h5\n",
        "!python /content/mycar/manage.py train  --type=categorical  \t--tub=/content/mycar/data/tub_20000   \t--model=/content/donkeycar/ActivationFunction/hard_sigmoid/Categorical_model_20000.h5\n",
        "!python /content/mycar/manage.py train  --type=rnn      \t--tub=/content/mycar/data/tub_20000   \t--model=/content/donkeycar/ActivationFunction/hard_sigmoid/RNN_LSTM_model_20000.h5\n",
        "!python /content/mycar/manage.py train  --type=3d       \t--tub=/content/mycar/data/tub_20000   \t--model=/content/donkeycar/ActivationFunction/hard_sigmoid/3DCNN_model_20000.h5\n",
        "!python /content/mycar/manage.py train  --type=latent     \t--tub=/content/mycar/data/tub_20000   \t--model=/content/donkeycar/ActivationFunction/hard_sigmoid/Latent_model_20000.h5"
      ],
      "execution_count": null,
      "outputs": []
    },
    {
      "cell_type": "markdown",
      "metadata": {
        "id": "_IvpEEGuwIEy"
      },
      "source": [
        "# **Download Files**"
      ]
    },
    {
      "cell_type": "code",
      "metadata": {
        "id": "C1J50xXRaMme"
      },
      "source": [
        "# 压缩下载\n",
        "import os, tarfile\n",
        "import os\n",
        "from google.colab import files\n",
        "def make_targz_one_by_one(output_filename, source_dir):\n",
        "  tar = tarfile.open(output_filename,\"w\")\n",
        "  for root,dir_name,files_list in os.walk(source_dir):\n",
        "    for file in files_list:\n",
        "      pathfile = os.path.join(root, file)\n",
        "      tar.add(pathfile)\n",
        "  tar.close()\n",
        "  files.download(output_filename)\n",
        "make_targz_one_by_one('AA', '/content/donkeycar/categorical_crossentropy')"
      ],
      "execution_count": null,
      "outputs": []
    }
  ]
}