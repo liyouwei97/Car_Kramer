{
  "nbformat": 4,
  "nbformat_minor": 0,
  "metadata": {
    "accelerator": "GPU",
    "colab": {
      "name": "Activation Function",
      "provenance": [],
      "collapsed_sections": [
        "gsMyn4bsq09q",
        "0yOF4C9HkVm0",
        "TPuE0zZL92jv",
        "YzTcPDIX91yo",
        "DYDzxXHf94b9",
        "MU9D52Sl97ex",
        "fU4tOMnp96Tb",
        "ttpOpReR98t3",
        "3WBQW7NswdTZ",
        "_IvpEEGuwIEy"
      ],
      "include_colab_link": true
    },
    "kernelspec": {
      "display_name": "Python 3",
      "name": "python3"
    },
    "language_info": {
      "name": "python"
    }
  },
  "cells": [
    {
      "cell_type": "markdown",
      "metadata": {
        "id": "view-in-github",
        "colab_type": "text"
      },
      "source": [
        "<a href=\"https://colab.research.google.com/github/liyouwei97/Donkey_Car_lyw/blob/master/Code/Activation_Function.ipynb\" target=\"_parent\"><img src=\"https://colab.research.google.com/assets/colab-badge.svg\" alt=\"Open In Colab\"/></a>"
      ]
    },
    {
      "cell_type": "markdown",
      "metadata": {
        "id": "vLPZ3EIvx2cb"
      },
      "source": [
        "**Donkey Colab 3.1.5 with GPU(TensorFlow 1.13.1)**\n",
        "\n",
        "**Donkey Colab with GPU.**\n",
        "\n",
        "**DonkeyCar version 3.1.1**\n",
        "\n",
        "**TensorFlow 1.13.1**\n",
        "\n",
        "**numpy==1.20.3**\n",
        "\n",
        "**keras==2.6**"
      ]
    },
    {
      "cell_type": "markdown",
      "metadata": {
        "id": "LYmlV7Hxw1WI"
      },
      "source": [
        "# **Modify the environment**"
      ]
    },
    {
      "cell_type": "code",
      "metadata": {
        "colab": {
          "base_uri": "https://localhost:8080/"
        },
        "id": "AMfdM4fZYdA6",
        "outputId": "af246649-5484-4604-8a23-9b680549ddf2"
      },
      "source": [
        "!pip uninstall -y tensorflow\n",
        "!pip install tensorflow-gpu==1.13.1\n",
        "# !pip install tensorflow==1.13.1\n",
        "!pip uninstall -y numpy\n",
        "!pip install numpy==1.20.3\n",
        "!pip uninstall -y keras\n",
        "!pip install keras==2.6.0"
      ],
      "execution_count": null,
      "outputs": [
        {
          "output_type": "stream",
          "name": "stdout",
          "text": [
            "Found existing installation: tensorflow 2.7.0\n",
            "Uninstalling tensorflow-2.7.0:\n",
            "  Successfully uninstalled tensorflow-2.7.0\n",
            "Collecting tensorflow-gpu==1.13.1\n",
            "  Downloading tensorflow_gpu-1.13.1-cp37-cp37m-manylinux1_x86_64.whl (345.0 MB)\n",
            "\u001b[K     |████████████████████████████████| 345.0 MB 3.9 kB/s \n",
            "\u001b[?25hRequirement already satisfied: termcolor>=1.1.0 in /usr/local/lib/python3.7/dist-packages (from tensorflow-gpu==1.13.1) (1.1.0)\n",
            "Requirement already satisfied: wheel>=0.26 in /usr/local/lib/python3.7/dist-packages (from tensorflow-gpu==1.13.1) (0.37.0)\n",
            "Requirement already satisfied: numpy>=1.13.3 in /usr/local/lib/python3.7/dist-packages (from tensorflow-gpu==1.13.1) (1.19.5)\n",
            "Collecting tensorboard<1.14.0,>=1.13.0\n",
            "  Downloading tensorboard-1.13.1-py3-none-any.whl (3.2 MB)\n",
            "\u001b[K     |████████████████████████████████| 3.2 MB 35.9 MB/s \n",
            "\u001b[?25hRequirement already satisfied: absl-py>=0.1.6 in /usr/local/lib/python3.7/dist-packages (from tensorflow-gpu==1.13.1) (0.12.0)\n",
            "Requirement already satisfied: protobuf>=3.6.1 in /usr/local/lib/python3.7/dist-packages (from tensorflow-gpu==1.13.1) (3.17.3)\n",
            "Requirement already satisfied: keras-preprocessing>=1.0.5 in /usr/local/lib/python3.7/dist-packages (from tensorflow-gpu==1.13.1) (1.1.2)\n",
            "Collecting keras-applications>=1.0.6\n",
            "  Downloading Keras_Applications-1.0.8-py3-none-any.whl (50 kB)\n",
            "\u001b[K     |████████████████████████████████| 50 kB 6.4 MB/s \n",
            "\u001b[?25hRequirement already satisfied: grpcio>=1.8.6 in /usr/local/lib/python3.7/dist-packages (from tensorflow-gpu==1.13.1) (1.42.0)\n",
            "Requirement already satisfied: six>=1.10.0 in /usr/local/lib/python3.7/dist-packages (from tensorflow-gpu==1.13.1) (1.15.0)\n",
            "Requirement already satisfied: gast>=0.2.0 in /usr/local/lib/python3.7/dist-packages (from tensorflow-gpu==1.13.1) (0.4.0)\n",
            "Collecting tensorflow-estimator<1.14.0rc0,>=1.13.0\n",
            "  Downloading tensorflow_estimator-1.13.0-py2.py3-none-any.whl (367 kB)\n",
            "\u001b[K     |████████████████████████████████| 367 kB 34.8 MB/s \n",
            "\u001b[?25hRequirement already satisfied: astor>=0.6.0 in /usr/local/lib/python3.7/dist-packages (from tensorflow-gpu==1.13.1) (0.8.1)\n",
            "Requirement already satisfied: h5py in /usr/local/lib/python3.7/dist-packages (from keras-applications>=1.0.6->tensorflow-gpu==1.13.1) (3.1.0)\n",
            "Requirement already satisfied: werkzeug>=0.11.15 in /usr/local/lib/python3.7/dist-packages (from tensorboard<1.14.0,>=1.13.0->tensorflow-gpu==1.13.1) (1.0.1)\n",
            "Requirement already satisfied: markdown>=2.6.8 in /usr/local/lib/python3.7/dist-packages (from tensorboard<1.14.0,>=1.13.0->tensorflow-gpu==1.13.1) (3.3.6)\n",
            "Requirement already satisfied: importlib-metadata>=4.4 in /usr/local/lib/python3.7/dist-packages (from markdown>=2.6.8->tensorboard<1.14.0,>=1.13.0->tensorflow-gpu==1.13.1) (4.8.2)\n",
            "Requirement already satisfied: zipp>=0.5 in /usr/local/lib/python3.7/dist-packages (from importlib-metadata>=4.4->markdown>=2.6.8->tensorboard<1.14.0,>=1.13.0->tensorflow-gpu==1.13.1) (3.6.0)\n",
            "Requirement already satisfied: typing-extensions>=3.6.4 in /usr/local/lib/python3.7/dist-packages (from importlib-metadata>=4.4->markdown>=2.6.8->tensorboard<1.14.0,>=1.13.0->tensorflow-gpu==1.13.1) (3.10.0.2)\n",
            "Collecting mock>=2.0.0\n",
            "  Downloading mock-4.0.3-py3-none-any.whl (28 kB)\n",
            "Requirement already satisfied: cached-property in /usr/local/lib/python3.7/dist-packages (from h5py->keras-applications>=1.0.6->tensorflow-gpu==1.13.1) (1.5.2)\n",
            "Installing collected packages: mock, tensorflow-estimator, tensorboard, keras-applications, tensorflow-gpu\n",
            "  Attempting uninstall: tensorflow-estimator\n",
            "    Found existing installation: tensorflow-estimator 2.7.0\n",
            "    Uninstalling tensorflow-estimator-2.7.0:\n",
            "      Successfully uninstalled tensorflow-estimator-2.7.0\n",
            "  Attempting uninstall: tensorboard\n",
            "    Found existing installation: tensorboard 2.7.0\n",
            "    Uninstalling tensorboard-2.7.0:\n",
            "      Successfully uninstalled tensorboard-2.7.0\n",
            "Successfully installed keras-applications-1.0.8 mock-4.0.3 tensorboard-1.13.1 tensorflow-estimator-1.13.0 tensorflow-gpu-1.13.1\n",
            "Found existing installation: numpy 1.19.5\n",
            "Uninstalling numpy-1.19.5:\n",
            "  Successfully uninstalled numpy-1.19.5\n",
            "Collecting numpy==1.20.3\n",
            "  Downloading numpy-1.20.3-cp37-cp37m-manylinux_2_12_x86_64.manylinux2010_x86_64.whl (15.3 MB)\n",
            "\u001b[K     |████████████████████████████████| 15.3 MB 5.2 MB/s \n",
            "\u001b[?25hInstalling collected packages: numpy\n",
            "\u001b[31mERROR: pip's dependency resolver does not currently take into account all the packages that are installed. This behaviour is the source of the following dependency conflicts.\n",
            "kapre 0.3.6 requires tensorflow>=2.0.0, which is not installed.\n",
            "yellowbrick 1.3.post1 requires numpy<1.20,>=1.16.0, but you have numpy 1.20.3 which is incompatible.\n",
            "datascience 0.10.6 requires folium==0.2.1, but you have folium 0.8.3 which is incompatible.\n",
            "albumentations 0.1.12 requires imgaug<0.2.7,>=0.2.5, but you have imgaug 0.2.9 which is incompatible.\u001b[0m\n",
            "Successfully installed numpy-1.20.3\n"
          ]
        },
        {
          "output_type": "display_data",
          "data": {
            "application/vnd.colab-display-data+json": {
              "pip_warning": {
                "packages": [
                  "numpy"
                ]
              }
            }
          },
          "metadata": {}
        },
        {
          "output_type": "stream",
          "name": "stdout",
          "text": [
            "Found existing installation: keras 2.7.0\n",
            "Uninstalling keras-2.7.0:\n",
            "  Successfully uninstalled keras-2.7.0\n",
            "Collecting keras==2.6.0\n",
            "  Downloading keras-2.6.0-py2.py3-none-any.whl (1.3 MB)\n",
            "\u001b[K     |████████████████████████████████| 1.3 MB 5.3 MB/s \n",
            "\u001b[?25hInstalling collected packages: keras\n",
            "Successfully installed keras-2.6.0\n"
          ]
        }
      ]
    },
    {
      "cell_type": "markdown",
      "metadata": {
        "id": "vkjbUUI7xA70"
      },
      "source": [
        "# Step 1 从github上下载Donkey car源码"
      ]
    },
    {
      "cell_type": "code",
      "metadata": {
        "colab": {
          "base_uri": "https://localhost:8080/"
        },
        "id": "ppybFm5nExQN",
        "outputId": "8ba58dc8-2583-4ef2-b107-68c49f2395c6"
      },
      "source": [
        "!git clone https://github.com/liyouwei97/Car_Kramer.git donkeycar\n",
        "%cd donkeycar\n",
        "%cd /content/donkeycar/donkeycar"
      ],
      "execution_count": null,
      "outputs": [
        {
          "output_type": "stream",
          "name": "stdout",
          "text": [
            "Cloning into 'donkeycar'...\n",
            "remote: Enumerating objects: 3413, done.\u001b[K\n",
            "remote: Counting objects: 100% (472/472), done.\u001b[K\n",
            "remote: Compressing objects: 100% (466/466), done.\u001b[K\n",
            "remote: Total 3413 (delta 177), reused 2 (delta 1), pack-reused 2941\u001b[K\n",
            "Receiving objects: 100% (3413/3413), 364.51 MiB | 23.25 MiB/s, done.\n",
            "Resolving deltas: 100% (1278/1278), done.\n",
            "Checking out files: 100% (2771/2771), done.\n",
            "/content/donkeycar\n",
            "/content/donkeycar/donkeycar\n"
          ]
        }
      ]
    },
    {
      "cell_type": "markdown",
      "metadata": {
        "id": "qVI1rFycxIh2"
      },
      "source": [
        "# Step 2 安装Donkey car环境"
      ]
    },
    {
      "cell_type": "code",
      "metadata": {
        "colab": {
          "base_uri": "https://localhost:8080/"
        },
        "id": "D-cZLtEFErmV",
        "outputId": "892f35cb-620e-44f4-aab7-a305be39fee3"
      },
      "source": [
        "!pip3 install -e .[pc]"
      ],
      "execution_count": null,
      "outputs": [
        {
          "output_type": "stream",
          "name": "stdout",
          "text": [
            "Obtaining file:///content/donkeycar/donkeycar\n",
            "Requirement already satisfied: numpy in /usr/local/lib/python3.7/dist-packages (from donkeycar==3.1.1) (1.20.3)\n",
            "Requirement already satisfied: pillow in /usr/local/lib/python3.7/dist-packages (from donkeycar==3.1.1) (7.1.2)\n",
            "Requirement already satisfied: docopt in /usr/local/lib/python3.7/dist-packages (from donkeycar==3.1.1) (0.6.2)\n",
            "Requirement already satisfied: tornado in /usr/local/lib/python3.7/dist-packages (from donkeycar==3.1.1) (5.1.1)\n",
            "Requirement already satisfied: requests in /usr/local/lib/python3.7/dist-packages (from donkeycar==3.1.1) (2.23.0)\n",
            "Requirement already satisfied: h5py in /usr/local/lib/python3.7/dist-packages (from donkeycar==3.1.1) (3.1.0)\n",
            "Requirement already satisfied: moviepy in /usr/local/lib/python3.7/dist-packages (from donkeycar==3.1.1) (0.2.3.5)\n",
            "Requirement already satisfied: pandas in /usr/local/lib/python3.7/dist-packages (from donkeycar==3.1.1) (1.1.5)\n",
            "Requirement already satisfied: PrettyTable in /usr/local/lib/python3.7/dist-packages (from donkeycar==3.1.1) (2.4.0)\n",
            "Collecting paho-mqtt\n",
            "  Downloading paho-mqtt-1.6.1.tar.gz (99 kB)\n",
            "\u001b[K     |████████████████████████████████| 99 kB 4.1 MB/s \n",
            "\u001b[?25hRequirement already satisfied: matplotlib in /usr/local/lib/python3.7/dist-packages (from donkeycar==3.1.1) (3.2.2)\n",
            "Requirement already satisfied: cached-property in /usr/local/lib/python3.7/dist-packages (from h5py->donkeycar==3.1.1) (1.5.2)\n",
            "Requirement already satisfied: python-dateutil>=2.1 in /usr/local/lib/python3.7/dist-packages (from matplotlib->donkeycar==3.1.1) (2.8.2)\n",
            "Requirement already satisfied: pyparsing!=2.0.4,!=2.1.2,!=2.1.6,>=2.0.1 in /usr/local/lib/python3.7/dist-packages (from matplotlib->donkeycar==3.1.1) (3.0.6)\n",
            "Requirement already satisfied: kiwisolver>=1.0.1 in /usr/local/lib/python3.7/dist-packages (from matplotlib->donkeycar==3.1.1) (1.3.2)\n",
            "Requirement already satisfied: cycler>=0.10 in /usr/local/lib/python3.7/dist-packages (from matplotlib->donkeycar==3.1.1) (0.11.0)\n",
            "Requirement already satisfied: six>=1.5 in /usr/local/lib/python3.7/dist-packages (from python-dateutil>=2.1->matplotlib->donkeycar==3.1.1) (1.15.0)\n",
            "Requirement already satisfied: decorator<5.0,>=4.0.2 in /usr/local/lib/python3.7/dist-packages (from moviepy->donkeycar==3.1.1) (4.4.2)\n",
            "Requirement already satisfied: imageio<3.0,>=2.1.2 in /usr/local/lib/python3.7/dist-packages (from moviepy->donkeycar==3.1.1) (2.4.1)\n",
            "Requirement already satisfied: tqdm<5.0,>=4.11.2 in /usr/local/lib/python3.7/dist-packages (from moviepy->donkeycar==3.1.1) (4.62.3)\n",
            "Requirement already satisfied: pytz>=2017.2 in /usr/local/lib/python3.7/dist-packages (from pandas->donkeycar==3.1.1) (2018.9)\n",
            "Requirement already satisfied: importlib-metadata in /usr/local/lib/python3.7/dist-packages (from PrettyTable->donkeycar==3.1.1) (4.8.2)\n",
            "Requirement already satisfied: wcwidth in /usr/local/lib/python3.7/dist-packages (from PrettyTable->donkeycar==3.1.1) (0.2.5)\n",
            "Requirement already satisfied: typing-extensions>=3.6.4 in /usr/local/lib/python3.7/dist-packages (from importlib-metadata->PrettyTable->donkeycar==3.1.1) (3.10.0.2)\n",
            "Requirement already satisfied: zipp>=0.5 in /usr/local/lib/python3.7/dist-packages (from importlib-metadata->PrettyTable->donkeycar==3.1.1) (3.6.0)\n",
            "Requirement already satisfied: certifi>=2017.4.17 in /usr/local/lib/python3.7/dist-packages (from requests->donkeycar==3.1.1) (2021.10.8)\n",
            "Requirement already satisfied: chardet<4,>=3.0.2 in /usr/local/lib/python3.7/dist-packages (from requests->donkeycar==3.1.1) (3.0.4)\n",
            "Requirement already satisfied: idna<3,>=2.5 in /usr/local/lib/python3.7/dist-packages (from requests->donkeycar==3.1.1) (2.10)\n",
            "Requirement already satisfied: urllib3!=1.25.0,!=1.25.1,<1.26,>=1.21.1 in /usr/local/lib/python3.7/dist-packages (from requests->donkeycar==3.1.1) (1.24.3)\n",
            "Building wheels for collected packages: paho-mqtt\n",
            "  Building wheel for paho-mqtt (setup.py) ... \u001b[?25l\u001b[?25hdone\n",
            "  Created wheel for paho-mqtt: filename=paho_mqtt-1.6.1-py3-none-any.whl size=62133 sha256=72c9e7581a247da392823daeff402c4739bc155ab21f45736ea5b7451effe52b\n",
            "  Stored in directory: /root/.cache/pip/wheels/d0/bf/ac/2b3f43f8c6fcd0f4ba5395397458c521eb0b52d33b574a5a40\n",
            "Successfully built paho-mqtt\n",
            "Installing collected packages: paho-mqtt, donkeycar\n",
            "  Running setup.py develop for donkeycar\n",
            "Successfully installed donkeycar-3.1.1 paho-mqtt-1.6.1\n"
          ]
        }
      ]
    },
    {
      "cell_type": "markdown",
      "metadata": {
        "id": "qjHRwsBzxMjJ"
      },
      "source": [
        "# Step 3 创建应用程序"
      ]
    },
    {
      "cell_type": "code",
      "metadata": {
        "colab": {
          "base_uri": "https://localhost:8080/"
        },
        "id": "2KoHkD-iErp7",
        "outputId": "98d194a5-076d-49f3-9ea2-a2f96f5b3b30"
      },
      "source": [
        "!donkey createcar --path /content/mycar"
      ],
      "execution_count": null,
      "outputs": [
        {
          "output_type": "stream",
          "name": "stdout",
          "text": [
            "using donkey v3.1.1 ...\n",
            "Creating car folder: /content/mycar\n",
            "making dir  /content/mycar\n",
            "Creating data & model folders.\n",
            "making dir  /content/mycar/models\n",
            "making dir  /content/mycar/data\n",
            "making dir  /content/mycar/logs\n",
            "Copying car application template: complete\n",
            "Copying car config defaults. Adjust these before starting your car.\n",
            "Copying train script. Adjust these before starting your car.\n",
            "Copying my car config overrides\n",
            "Donkey setup complete.\n"
          ]
        }
      ]
    },
    {
      "cell_type": "markdown",
      "metadata": {
        "id": "YbQLALzUxUZR"
      },
      "source": [
        "# Step 4 加载数据集"
      ]
    },
    {
      "cell_type": "code",
      "metadata": {
        "colab": {
          "base_uri": "https://localhost:8080/"
        },
        "id": "IkBs2Ys47XEA",
        "outputId": "d3b3d23c-d62d-47bd-b17b-94c873dc3a0d"
      },
      "source": [
        "import os\n",
        "from google.colab import drive\n",
        "drive.mount('/content/drive')\n",
        "\n",
        "path = \"/content/drive/My Drive\"\n",
        "\n",
        "os.chdir(path)\n",
        "os.listdir(path)\n",
        "\n",
        "!unzip -uq /content/drive/MyDrive/tub/tub_5000.zip -d /content/mycar/data\n",
        "!unzip -uq /content/drive/MyDrive/tub/tub10000.zip -d /content/mycar/data\n",
        "!unzip -uq /content/drive/MyDrive/tub/tub_15000.zip -d /content/mycar/data\n",
        "!unzip -uq /content/drive/MyDrive/tub/tub_20000.zip -d /content/mycar/data\n",
        "!ls /content/mycar/data"
      ],
      "execution_count": null,
      "outputs": [
        {
          "output_type": "stream",
          "name": "stdout",
          "text": [
            "Mounted at /content/drive\n",
            "tub10000  tub_15000  tub_20000\ttub_5000\n"
          ]
        }
      ]
    },
    {
      "cell_type": "markdown",
      "metadata": {
        "id": "GUUD_jK5xYWF"
      },
      "source": [
        "# Step 5 开始训练模型(linear|categorical|rnn|3d|latent)5个神经网络模型\n",
        "\n",
        "这一步是进行模型的筛选\n",
        "\n",
        "我们希望找到一个训练表现选对较好模型\n",
        "\n",
        "这边的数据集任然沿用的第一篇文章的数据集\n",
        "\n",
        "目的 作为可能修改的部分为需要作出修改而准备\n",
        "\n",
        "有这个想法的原因是，我解决了通用性，就是别人的代码和我之前使用的代码我同一了下。\n",
        "\n",
        "所以现在两个Donkey car 都可以使用而且效果没有差。"
      ]
    },
    {
      "cell_type": "markdown",
      "metadata": {
        "id": "mlLOWZb3ktQS"
      },
      "source": [
        "原始模型的训练\n",
        "\n",
        "1 原始模型\n",
        "\n",
        "# Experiment 1\n",
        "\n"
      ]
    },
    {
      "cell_type": "code",
      "metadata": {
        "id": "uuY5mFVfALaz"
      },
      "source": [
        "# !mkdir /content/donkeycar/Original\n",
        "# !rm -rf /content/donkeycar/Original\n",
        "\n",
        "# !python /content/mycar/manage.py train  --type=linear     --tub=/content/mycar/data/tub_5000  --model=/content/donkeycar/Original/Linear_model_5000.h5\n",
        "# !python /content/mycar/manage.py train  --type=categorical  --tub=/content/mycar/data/tub_5000  --model=/content/donkeycar/Original/Categorical_model_5000.h5\n",
        "# !python /content/mycar/manage.py train  --type=rnn      --tub=/content/mycar/data/tub_5000  --model=/content/donkeycar/Original/RNN_LSTM_model_5000.h5\n",
        "# !python /content/mycar/manage.py train  --type=3d       --tub=/content/mycar/data/tub_5000  --model=/content/donkeycar/Original/3DCNN_model_5000.h5\n",
        "# !python /content/mycar/manage.py train  --type=latent     --tub=/content/mycar/data/tub_5000  --model=/content/donkeycar/Original/Latent_model_5000.h5\n",
        "\n",
        "# !python /content/mycar/manage.py train  --type=linear     --tub=/content/mycar/data/tub10000  --model=/content/donkeycar/Original/Linear_model_10000.h5\n",
        "# !python /content/mycar/manage.py train  --type=categorical  --tub=/content/mycar/data/tub10000  --model=/content/donkeycar/Original/Categorical_model_10000.h5\n",
        "# !python /content/mycar/manage.py train  --type=rnn      --tub=/content/mycar/data/tub10000  --model=/content/donkeycar/Original/RNN_LSTM_model_10000.h5\n",
        "# !python /content/mycar/manage.py train  --type=3d       --tub=/content/mycar/data/tub10000  --model=/content/donkeycar/Original/3DCNN_model_10000.h5\n",
        "# !python /content/mycar/manage.py train  --type=latent     --tub=/content/mycar/data/tub10000  --model=/content/donkeycar/Original/Latent_model_10000.h5\n",
        "\n",
        "# !python /content/mycar/manage.py train  --type=linear     --tub=/content/mycar/data/tub_15000   --model=/content/donkeycar/Original/Linear_model_15000.h5\n",
        "# !python /content/mycar/manage.py train  --type=categorical  --tub=/content/mycar/data/tub_15000   --model=/content/donkeycar/Original/Categorical_model_15000.h5\n",
        "# !python /content/mycar/manage.py train  --type=rnn      --tub=/content/mycar/data/tub_15000   --model=/content/donkeycar/Original/RNN_LSTM_model_15000.h5\n",
        "# !python /content/mycar/manage.py train  --type=3d       --tub=/content/mycar/data/tub_15000   --model=/content/donkeycar/Original/3DCNN_model_15000.h5\n",
        "# !python /content/mycar/manage.py train  --type=latent     --tub=/content/mycar/data/tub_15000   --model=/content/donkeycar/Original/Latent_model_15000.h5\n",
        "\n",
        "# !python /content/mycar/manage.py train  --type=linear     --tub=/content/mycar/data/tub_20000   --model=/content/donkeycar/Original/Linear_model_20000.h5\n",
        "# !python /content/mycar/manage.py train  --type=categorical  --tub=/content/mycar/data/tub_20000   --model=/content/donkeycar/Original/Categorical_model_20000.h5\n",
        "# !python /content/mycar/manage.py train  --type=rnn      --tub=/content/mycar/data/tub_20000   --model=/content/donkeycar/Original/RNN_LSTM_model_20000.h5\n",
        "# !python /content/mycar/manage.py train  --type=3d       --tub=/content/mycar/data/tub_20000   --model=/content/donkeycar/Original/3DCNN_model_20000.h5\n",
        "# !python /content/mycar/manage.py train  --type=latent     --tub=/content/mycar/data/tub_20000   --model=/content/donkeycar/Original/Latent_model_20000.h5"
      ],
      "execution_count": null,
      "outputs": []
    },
    {
      "cell_type": "markdown",
      "metadata": {
        "id": "N1hD1kkavzFc"
      },
      "source": [
        "# **Activation Function**\n",
        "\n",
        "修改模型的激活函数\n",
        "\n",
        "将ReLU函数统一换成现有的激活函数（纯改为一种）\n",
        "\n",
        "现阶段经过测试 有 elu | selu | softmax | softplus | softsign | tanh | sigmoid | hard_sigmoid 可用\n",
        "\n",
        "\n",
        "\n"
      ]
    },
    {
      "cell_type": "markdown",
      "metadata": {
        "id": "gsMyn4bsq09q"
      },
      "source": [
        "# Experiment 2\n",
        "\n",
        "准备阶段\n"
      ]
    },
    {
      "cell_type": "code",
      "metadata": {
        "id": "pv1nbjnEq4b6"
      },
      "source": [
        "!unzip -uq /content/donkeycar/Code/ActivationFunction.zip -d /content\n",
        "!mkdir /content/donkeycar/ActivationFunction\n",
        "!rm -rf /content/donkeycar/donkeycar/donkeycar/parts/keras.py"
      ],
      "execution_count": null,
      "outputs": []
    },
    {
      "cell_type": "markdown",
      "metadata": {
        "id": "0yOF4C9HkVm0"
      },
      "source": [
        "# 1 elu"
      ]
    },
    {
      "cell_type": "code",
      "metadata": {
        "id": "32ALRjRZ-ON-"
      },
      "source": [
        "# !cp /content/ActivationFunction/elu/keras.py /content/donkeycar/donkeycar/donkeycar/parts\n",
        "# !rm -rf /content/donkeycar/ActivationFunction/elu\n",
        "# !mkdir /content/donkeycar/ActivationFunction/elu\n",
        "\n",
        "# !python /content/mycar/manage.py train  --type=linear     \t--tub=/content/mycar/data/tub_5000  \t--model=/content/donkeycar/ActivationFunction/elu/Linear_model_5000.h5\n",
        "# !python /content/mycar/manage.py train  --type=categorical  \t--tub=/content/mycar/data/tub_5000  \t--model=/content/donkeycar/ActivationFunction/elu/Categorical_model_5000.h5\n",
        "# !python /content/mycar/manage.py train  --type=rnn      \t--tub=/content/mycar/data/tub_5000  \t--model=/content/donkeycar/ActivationFunction/elu/RNN_LSTM_model_5000.h5\n",
        "# !python /content/mycar/manage.py train  --type=3d       \t--tub=/content/mycar/data/tub_5000  \t--model=/content/donkeycar/ActivationFunction/elu/3DCNN_model_5000.h5\n",
        "# !python /content/mycar/manage.py train  --type=latent     \t--tub=/content/mycar/data/tub_5000  \t--model=/content/donkeycar/ActivationFunction/elu/Latent_model_5000.h5\n",
        "\n",
        "# !python /content/mycar/manage.py train  --type=linear     \t--tub=/content/mycar/data/tub10000  \t--model=/content/donkeycar/ActivationFunction/elu/Linear_model_10000.h5\n",
        "# !python /content/mycar/manage.py train  --type=categorical  \t--tub=/content/mycar/data/tub10000  \t--model=/content/donkeycar/ActivationFunction/elu/Categorical_model_10000.h5\n",
        "# !python /content/mycar/manage.py train  --type=rnn      \t--tub=/content/mycar/data/tub10000  \t--model=/content/donkeycar/ActivationFunction/elu/RNN_LSTM_model_10000.h5\n",
        "# !python /content/mycar/manage.py train  --type=3d       \t--tub=/content/mycar/data/tub10000  \t--model=/content/donkeycar/ActivationFunction/elu/3DCNN_model_10000.h5\n",
        "# !python /content/mycar/manage.py train  --type=latent     \t--tub=/content/mycar/data/tub10000  \t--model=/content/donkeycar/ActivationFunction/elu/Latent_model_10000.h5\n",
        "\n",
        "# !python /content/mycar/manage.py train  --type=linear     \t--tub=/content/mycar/data/tub_15000   \t--model=/content/donkeycar/ActivationFunction/elu/Linear_model_15000.h5\n",
        "# !python /content/mycar/manage.py train  --type=categorical  \t--tub=/content/mycar/data/tub_15000   \t--model=/content/donkeycar/ActivationFunction/elu/Categorical_model_15000.h5\n",
        "# !python /content/mycar/manage.py train  --type=rnn      \t--tub=/content/mycar/data/tub_15000   \t--model=/content/donkeycar/ActivationFunction/elu/RNN_LSTM_model_15000.h5\n",
        "# !python /content/mycar/manage.py train  --type=3d       \t--tub=/content/mycar/data/tub_15000   \t--model=/content/donkeycar/ActivationFunction/elu/3DCNN_model_15000.h5\n",
        "# !python /content/mycar/manage.py train  --type=latent     \t--tub=/content/mycar/data/tub_15000   \t--model=/content/donkeycar/ActivationFunction/elu/Latent_model_15000.h5\n",
        "\n",
        "# !python /content/mycar/manage.py train  --type=linear     \t--tub=/content/mycar/data/tub_20000   \t--model=/content/donkeycar/ActivationFunction/elu/Linear_model_20000.h5\n",
        "# !python /content/mycar/manage.py train  --type=categorical  \t--tub=/content/mycar/data/tub_20000   \t--model=/content/donkeycar/ActivationFunction/elu/Categorical_model_20000.h5\n",
        "# !python /content/mycar/manage.py train  --type=rnn      \t--tub=/content/mycar/data/tub_20000   \t--model=/content/donkeycar/ActivationFunction/elu/RNN_LSTM_model_20000.h5\n",
        "# !python /content/mycar/manage.py train  --type=3d       \t--tub=/content/mycar/data/tub_20000   \t--model=/content/donkeycar/ActivationFunction/elu/3DCNN_model_20000.h5\n",
        "# !python /content/mycar/manage.py train  --type=latent     \t--tub=/content/mycar/data/tub_20000   \t--model=/content/donkeycar/ActivationFunction/elu/Latent_model_20000.h5"
      ],
      "execution_count": null,
      "outputs": []
    },
    {
      "cell_type": "markdown",
      "metadata": {
        "id": "TPuE0zZL92jv"
      },
      "source": [
        "# 2 selu"
      ]
    },
    {
      "cell_type": "code",
      "metadata": {
        "id": "dvSvye3lC-Ba"
      },
      "source": [
        "# !cp /content/ActivationFunction/selu/keras.py /content/donkeycar/donkeycar/donkeycar/parts\n",
        "# !rm -rf /content/donkeycar/ActivationFunction/selu\n",
        "# !mkdir /content/donkeycar/ActivationFunction/selu\n",
        "\n",
        "# !python /content/mycar/manage.py train  --type=linear     \t--tub=/content/mycar/data/tub_5000  \t--model=/content/donkeycar/ActivationFunction/selu/Linear_model_5000.h5\n",
        "# !python /content/mycar/manage.py train  --type=categorical  \t--tub=/content/mycar/data/tub_5000  \t--model=/content/donkeycar/ActivationFunction/selu/Categorical_model_5000.h5\n",
        "# !python /content/mycar/manage.py train  --type=rnn      \t--tub=/content/mycar/data/tub_5000  \t--model=/content/donkeycar/ActivationFunction/selu/RNN_LSTM_model_5000.h5\n",
        "# !python /content/mycar/manage.py train  --type=3d       \t--tub=/content/mycar/data/tub_5000  \t--model=/content/donkeycar/ActivationFunction/selu/3DCNN_model_5000.h5\n",
        "# !python /content/mycar/manage.py train  --type=latent     \t--tub=/content/mycar/data/tub_5000  \t--model=/content/donkeycar/ActivationFunction/selu/Latent_model_5000.h5\n",
        "\n",
        "# !python /content/mycar/manage.py train  --type=linear     \t--tub=/content/mycar/data/tub10000  \t--model=/content/donkeycar/ActivationFunction/selu/Linear_model_10000.h5\n",
        "# !python /content/mycar/manage.py train  --type=categorical  \t--tub=/content/mycar/data/tub10000  \t--model=/content/donkeycar/ActivationFunction/selu/Categorical_model_10000.h5\n",
        "# !python /content/mycar/manage.py train  --type=rnn      \t--tub=/content/mycar/data/tub10000  \t--model=/content/donkeycar/ActivationFunction/selu/RNN_LSTM_model_10000.h5\n",
        "# !python /content/mycar/manage.py train  --type=3d       \t--tub=/content/mycar/data/tub10000  \t--model=/content/donkeycar/ActivationFunction/selu/3DCNN_model_10000.h5\n",
        "# !python /content/mycar/manage.py train  --type=latent     \t--tub=/content/mycar/data/tub10000  \t--model=/content/donkeycar/ActivationFunction/selu/Latent_model_10000.h5\n",
        "\n",
        "# !python /content/mycar/manage.py train  --type=linear     \t--tub=/content/mycar/data/tub_15000   \t--model=/content/donkeycar/ActivationFunction/selu/Linear_model_15000.h5\n",
        "# !python /content/mycar/manage.py train  --type=categorical  \t--tub=/content/mycar/data/tub_15000   \t--model=/content/donkeycar/ActivationFunction/selu/Categorical_model_15000.h5\n",
        "# !python /content/mycar/manage.py train  --type=rnn      \t--tub=/content/mycar/data/tub_15000   \t--model=/content/donkeycar/ActivationFunction/selu/RNN_LSTM_model_15000.h5\n",
        "# !python /content/mycar/manage.py train  --type=3d       \t--tub=/content/mycar/data/tub_15000   \t--model=/content/donkeycar/ActivationFunction/selu/3DCNN_model_15000.h5\n",
        "# !python /content/mycar/manage.py train  --type=latent     \t--tub=/content/mycar/data/tub_15000   \t--model=/content/donkeycar/ActivationFunction/selu/Latent_model_15000.h5\n",
        "\n",
        "# !python /content/mycar/manage.py train  --type=linear     \t--tub=/content/mycar/data/tub_20000   \t--model=/content/donkeycar/ActivationFunction/selu/Linear_model_20000.h5\n",
        "# !python /content/mycar/manage.py train  --type=categorical  \t--tub=/content/mycar/data/tub_20000   \t--model=/content/donkeycar/ActivationFunction/selu/Categorical_model_20000.h5\n",
        "# !python /content/mycar/manage.py train  --type=rnn      \t--tub=/content/mycar/data/tub_20000   \t--model=/content/donkeycar/ActivationFunction/selu/RNN_LSTM_model_20000.h5\n",
        "# !python /content/mycar/manage.py train  --type=3d       \t--tub=/content/mycar/data/tub_20000   \t--model=/content/donkeycar/ActivationFunction/selu/3DCNN_model_20000.h5\n",
        "# !python /content/mycar/manage.py train  --type=latent     \t--tub=/content/mycar/data/tub_20000   \t--model=/content/donkeycar/ActivationFunction/selu/Latent_model_20000.h5"
      ],
      "execution_count": null,
      "outputs": []
    },
    {
      "cell_type": "markdown",
      "metadata": {
        "id": "YzTcPDIX91yo"
      },
      "source": [
        "# 3 softmax"
      ]
    },
    {
      "cell_type": "code",
      "metadata": {
        "id": "gcwYSScbDkjF"
      },
      "source": [
        "# !cp /content/ActivationFunction/softmax/keras.py /content/donkeycar/donkeycar/donkeycar/parts\n",
        "# !rm -rf /content/donkeycar/ActivationFunction/softmax\n",
        "# !mkdir /content/donkeycar/ActivationFunction/softmax\n",
        "\n",
        "# !python /content/mycar/manage.py train  --type=linear     \t--tub=/content/mycar/data/tub_5000  \t--model=/content/donkeycar/ActivationFunction/softmax/Linear_model_5000.h5\n",
        "# !python /content/mycar/manage.py train  --type=categorical  \t--tub=/content/mycar/data/tub_5000  \t--model=/content/donkeycar/ActivationFunction/softmax/Categorical_model_5000.h5\n",
        "# !python /content/mycar/manage.py train  --type=rnn      \t--tub=/content/mycar/data/tub_5000  \t--model=/content/donkeycar/ActivationFunction/softmax/RNN_LSTM_model_5000.h5\n",
        "# !python /content/mycar/manage.py train  --type=3d       \t--tub=/content/mycar/data/tub_5000  \t--model=/content/donkeycar/ActivationFunction/softmax/3DCNN_model_5000.h5\n",
        "# !python /content/mycar/manage.py train  --type=latent     \t--tub=/content/mycar/data/tub_5000  \t--model=/content/donkeycar/ActivationFunction/softmax/Latent_model_5000.h5\n",
        "\n",
        "# !python /content/mycar/manage.py train  --type=linear     \t--tub=/content/mycar/data/tub10000  \t--model=/content/donkeycar/ActivationFunction/softmax/Linear_model_10000.h5\n",
        "# !python /content/mycar/manage.py train  --type=categorical  \t--tub=/content/mycar/data/tub10000  \t--model=/content/donkeycar/ActivationFunction/softmax/Categorical_model_10000.h5\n",
        "# !python /content/mycar/manage.py train  --type=rnn      \t--tub=/content/mycar/data/tub10000  \t--model=/content/donkeycar/ActivationFunction/softmax/RNN_LSTM_model_10000.h5\n",
        "# !python /content/mycar/manage.py train  --type=3d       \t--tub=/content/mycar/data/tub10000  \t--model=/content/donkeycar/ActivationFunction/softmax/3DCNN_model_10000.h5\n",
        "# !python /content/mycar/manage.py train  --type=latent     \t--tub=/content/mycar/data/tub10000  \t--model=/content/donkeycar/ActivationFunction/softmax/Latent_model_10000.h5\n",
        "\n",
        "# !python /content/mycar/manage.py train  --type=linear     \t--tub=/content/mycar/data/tub_15000   \t--model=/content/donkeycar/ActivationFunction/softmax/Linear_model_15000.h5\n",
        "# !python /content/mycar/manage.py train  --type=categorical  \t--tub=/content/mycar/data/tub_15000   \t--model=/content/donkeycar/ActivationFunction/softmax/Categorical_model_15000.h5\n",
        "# !python /content/mycar/manage.py train  --type=rnn      \t--tub=/content/mycar/data/tub_15000   \t--model=/content/donkeycar/ActivationFunction/softmax/RNN_LSTM_model_15000.h5\n",
        "# !python /content/mycar/manage.py train  --type=3d       \t--tub=/content/mycar/data/tub_15000   \t--model=/content/donkeycar/ActivationFunction/softmax/3DCNN_model_15000.h5\n",
        "# !python /content/mycar/manage.py train  --type=latent     \t--tub=/content/mycar/data/tub_15000   \t--model=/content/donkeycar/ActivationFunction/softmax/Latent_model_15000.h5\n",
        "\n",
        "# !python /content/mycar/manage.py train  --type=linear     \t--tub=/content/mycar/data/tub_20000   \t--model=/content/donkeycar/ActivationFunction/softmax/Linear_model_20000.h5\n",
        "# !python /content/mycar/manage.py train  --type=categorical  \t--tub=/content/mycar/data/tub_20000   \t--model=/content/donkeycar/ActivationFunction/softmax/Categorical_model_20000.h5\n",
        "# !python /content/mycar/manage.py train  --type=rnn      \t--tub=/content/mycar/data/tub_20000   \t--model=/content/donkeycar/ActivationFunction/softmax/RNN_LSTM_model_20000.h5\n",
        "# !python /content/mycar/manage.py train  --type=3d       \t--tub=/content/mycar/data/tub_20000   \t--model=/content/donkeycar/ActivationFunction/softmax/3DCNN_model_20000.h5\n",
        "# !python /content/mycar/manage.py train  --type=latent     \t--tub=/content/mycar/data/tub_20000   \t--model=/content/donkeycar/ActivationFunction/softmax/Latent_model_20000.h5"
      ],
      "execution_count": null,
      "outputs": []
    },
    {
      "cell_type": "markdown",
      "metadata": {
        "id": "DYDzxXHf94b9"
      },
      "source": [
        "# 4 softplus"
      ]
    },
    {
      "cell_type": "code",
      "metadata": {
        "id": "lBTZumE9ED4P"
      },
      "source": [
        "# !cp /content/ActivationFunction/softplus/keras.py /content/donkeycar/donkeycar/donkeycar/parts\n",
        "# !rm -rf /content/donkeycar/ActivationFunction/softplus\n",
        "# !mkdir /content/donkeycar/ActivationFunction/softplus\n",
        "\n",
        "# !python /content/mycar/manage.py train  --type=linear     \t--tub=/content/mycar/data/tub_5000  \t--model=/content/donkeycar/ActivationFunction/softplus/Linear_model_5000.h5\n",
        "# !python /content/mycar/manage.py train  --type=categorical  \t--tub=/content/mycar/data/tub_5000  \t--model=/content/donkeycar/ActivationFunction/softplus/Categorical_model_5000.h5\n",
        "# !python /content/mycar/manage.py train  --type=rnn      \t--tub=/content/mycar/data/tub_5000  \t--model=/content/donkeycar/ActivationFunction/softplus/RNN_LSTM_model_5000.h5\n",
        "# !python /content/mycar/manage.py train  --type=3d       \t--tub=/content/mycar/data/tub_5000  \t--model=/content/donkeycar/ActivationFunction/softplus/3DCNN_model_5000.h5\n",
        "# !python /content/mycar/manage.py train  --type=latent     \t--tub=/content/mycar/data/tub_5000  \t--model=/content/donkeycar/ActivationFunction/softplus/Latent_model_5000.h5\n",
        "\n",
        "# !python /content/mycar/manage.py train  --type=linear     \t--tub=/content/mycar/data/tub10000  \t--model=/content/donkeycar/ActivationFunction/softplus/Linear_model_10000.h5\n",
        "# !python /content/mycar/manage.py train  --type=categorical  \t--tub=/content/mycar/data/tub10000  \t--model=/content/donkeycar/ActivationFunction/softplus/Categorical_model_10000.h5\n",
        "# !python /content/mycar/manage.py train  --type=rnn      \t--tub=/content/mycar/data/tub10000  \t--model=/content/donkeycar/ActivationFunction/softplus/RNN_LSTM_model_10000.h5\n",
        "# !python /content/mycar/manage.py train  --type=3d       \t--tub=/content/mycar/data/tub10000  \t--model=/content/donkeycar/ActivationFunction/softplus/3DCNN_model_10000.h5\n",
        "# !python /content/mycar/manage.py train  --type=latent     \t--tub=/content/mycar/data/tub10000  \t--model=/content/donkeycar/ActivationFunction/softplus/Latent_model_10000.h5\n",
        "\n",
        "# !python /content/mycar/manage.py train  --type=linear     \t--tub=/content/mycar/data/tub_15000   \t--model=/content/donkeycar/ActivationFunction/softplus/Linear_model_15000.h5\n",
        "# !python /content/mycar/manage.py train  --type=categorical  \t--tub=/content/mycar/data/tub_15000   \t--model=/content/donkeycar/ActivationFunction/softplus/Categorical_model_15000.h5\n",
        "# !python /content/mycar/manage.py train  --type=rnn      \t--tub=/content/mycar/data/tub_15000   \t--model=/content/donkeycar/ActivationFunction/softplus/RNN_LSTM_model_15000.h5\n",
        "# !python /content/mycar/manage.py train  --type=3d       \t--tub=/content/mycar/data/tub_15000   \t--model=/content/donkeycar/ActivationFunction/softplus/3DCNN_model_15000.h5\n",
        "# !python /content/mycar/manage.py train  --type=latent     \t--tub=/content/mycar/data/tub_15000   \t--model=/content/donkeycar/ActivationFunction/softplus/Latent_model_15000.h5\n",
        "\n",
        "# !python /content/mycar/manage.py train  --type=linear     \t--tub=/content/mycar/data/tub_20000   \t--model=/content/donkeycar/ActivationFunction/softplus/Linear_model_20000.h5\n",
        "# !python /content/mycar/manage.py train  --type=categorical  \t--tub=/content/mycar/data/tub_20000   \t--model=/content/donkeycar/ActivationFunction/softplus/Categorical_model_20000.h5\n",
        "# !python /content/mycar/manage.py train  --type=rnn      \t--tub=/content/mycar/data/tub_20000   \t--model=/content/donkeycar/ActivationFunction/softplus/RNN_LSTM_model_20000.h5\n",
        "# !python /content/mycar/manage.py train  --type=3d       \t--tub=/content/mycar/data/tub_20000   \t--model=/content/donkeycar/ActivationFunction/softplus/3DCNN_model_20000.h5\n",
        "# !python /content/mycar/manage.py train  --type=latent     \t--tub=/content/mycar/data/tub_20000   \t--model=/content/donkeycar/ActivationFunction/softplus/Latent_model_20000.h5"
      ],
      "execution_count": null,
      "outputs": []
    },
    {
      "cell_type": "markdown",
      "metadata": {
        "id": "MU9D52Sl97ex"
      },
      "source": [
        "# 5 softsign"
      ]
    },
    {
      "cell_type": "code",
      "metadata": {
        "id": "eZ48xBE_FMF2"
      },
      "source": [
        "# !cp /content/ActivationFunction/softsign/keras.py /content/donkeycar/donkeycar/donkeycar/parts\n",
        "# !rm -rf /content/donkeycar/ActivationFunction/softsign\n",
        "# !mkdir /content/donkeycar/ActivationFunction/softsign\n",
        "\n",
        "# !python /content/mycar/manage.py train  --type=linear     \t--tub=/content/mycar/data/tub_5000  \t--model=/content/donkeycar/ActivationFunction/softsign/Linear_model_5000.h5\n",
        "# !python /content/mycar/manage.py train  --type=categorical  \t--tub=/content/mycar/data/tub_5000  \t--model=/content/donkeycar/ActivationFunction/softsign/Categorical_model_5000.h5\n",
        "# !python /content/mycar/manage.py train  --type=rnn      \t--tub=/content/mycar/data/tub_5000  \t--model=/content/donkeycar/ActivationFunction/softsign/RNN_LSTM_model_5000.h5\n",
        "# !python /content/mycar/manage.py train  --type=3d       \t--tub=/content/mycar/data/tub_5000  \t--model=/content/donkeycar/ActivationFunction/softsign/3DCNN_model_5000.h5\n",
        "# !python /content/mycar/manage.py train  --type=latent     \t--tub=/content/mycar/data/tub_5000  \t--model=/content/donkeycar/ActivationFunction/softsign/Latent_model_5000.h5\n",
        "\n",
        "# !python /content/mycar/manage.py train  --type=linear     \t--tub=/content/mycar/data/tub10000  \t--model=/content/donkeycar/ActivationFunction/softsign/Linear_model_10000.h5\n",
        "# !python /content/mycar/manage.py train  --type=categorical  \t--tub=/content/mycar/data/tub10000  \t--model=/content/donkeycar/ActivationFunction/softsign/Categorical_model_10000.h5\n",
        "# !python /content/mycar/manage.py train  --type=rnn      \t--tub=/content/mycar/data/tub10000  \t--model=/content/donkeycar/ActivationFunction/softsign/RNN_LSTM_model_10000.h5\n",
        "# !python /content/mycar/manage.py train  --type=3d       \t--tub=/content/mycar/data/tub10000  \t--model=/content/donkeycar/ActivationFunction/softsign/3DCNN_model_10000.h5\n",
        "# !python /content/mycar/manage.py train  --type=latent     \t--tub=/content/mycar/data/tub10000  \t--model=/content/donkeycar/ActivationFunction/softsign/Latent_model_10000.h5\n",
        "\n",
        "# !python /content/mycar/manage.py train  --type=linear     \t--tub=/content/mycar/data/tub_15000   \t--model=/content/donkeycar/ActivationFunction/softsign/Linear_model_15000.h5\n",
        "# !python /content/mycar/manage.py train  --type=categorical  \t--tub=/content/mycar/data/tub_15000   \t--model=/content/donkeycar/ActivationFunction/softsign/Categorical_model_15000.h5\n",
        "# !python /content/mycar/manage.py train  --type=rnn      \t--tub=/content/mycar/data/tub_15000   \t--model=/content/donkeycar/ActivationFunction/softsign/RNN_LSTM_model_15000.h5\n",
        "# !python /content/mycar/manage.py train  --type=3d       \t--tub=/content/mycar/data/tub_15000   \t--model=/content/donkeycar/ActivationFunction/softsign/3DCNN_model_15000.h5\n",
        "# !python /content/mycar/manage.py train  --type=latent     \t--tub=/content/mycar/data/tub_15000   \t--model=/content/donkeycar/ActivationFunction/softsign/Latent_model_15000.h5\n",
        "\n",
        "# !python /content/mycar/manage.py train  --type=linear     \t--tub=/content/mycar/data/tub_20000   \t--model=/content/donkeycar/ActivationFunction/softsign/Linear_model_20000.h5\n",
        "# !python /content/mycar/manage.py train  --type=categorical  \t--tub=/content/mycar/data/tub_20000   \t--model=/content/donkeycar/ActivationFunction/softsign/Categorical_model_20000.h5\n",
        "# !python /content/mycar/manage.py train  --type=rnn      \t--tub=/content/mycar/data/tub_20000   \t--model=/content/donkeycar/ActivationFunction/softsign/RNN_LSTM_model_20000.h5\n",
        "# !python /content/mycar/manage.py train  --type=3d       \t--tub=/content/mycar/data/tub_20000   \t--model=/content/donkeycar/ActivationFunction/softsign/3DCNN_model_20000.h5\n",
        "# !python /content/mycar/manage.py train  --type=latent     \t--tub=/content/mycar/data/tub_20000   \t--model=/content/donkeycar/ActivationFunction/softsign/Latent_model_20000.h5"
      ],
      "execution_count": null,
      "outputs": []
    },
    {
      "cell_type": "markdown",
      "metadata": {
        "id": "fU4tOMnp96Tb"
      },
      "source": [
        "# 6 tanh"
      ]
    },
    {
      "cell_type": "code",
      "metadata": {
        "id": "WCvZpnwLFjsx"
      },
      "source": [
        "# !cp /content/ActivationFunction/tanh/keras.py /content/donkeycar/donkeycar/donkeycar/parts\n",
        "# !rm -rf /content/donkeycar/ActivationFunction/tanh\n",
        "# !mkdir /content/donkeycar/ActivationFunction/tanh\n",
        "\n",
        "# !python /content/mycar/manage.py train  --type=linear     \t--tub=/content/mycar/data/tub_5000  \t--model=/content/donkeycar/ActivationFunction/tanh/Linear_model_5000.h5\n",
        "# !python /content/mycar/manage.py train  --type=categorical  \t--tub=/content/mycar/data/tub_5000  \t--model=/content/donkeycar/ActivationFunction/tanh/Categorical_model_5000.h5\n",
        "# !python /content/mycar/manage.py train  --type=rnn      \t--tub=/content/mycar/data/tub_5000  \t--model=/content/donkeycar/ActivationFunction/tanh/RNN_LSTM_model_5000.h5\n",
        "# !python /content/mycar/manage.py train  --type=3d       \t--tub=/content/mycar/data/tub_5000  \t--model=/content/donkeycar/ActivationFunction/tanh/3DCNN_model_5000.h5\n",
        "# !python /content/mycar/manage.py train  --type=latent     \t--tub=/content/mycar/data/tub_5000  \t--model=/content/donkeycar/ActivationFunction/tanh/Latent_model_5000.h5\n",
        "\n",
        "# !python /content/mycar/manage.py train  --type=linear     \t--tub=/content/mycar/data/tub10000  \t--model=/content/donkeycar/ActivationFunction/tanh/Linear_model_10000.h5\n",
        "# !python /content/mycar/manage.py train  --type=categorical  \t--tub=/content/mycar/data/tub10000  \t--model=/content/donkeycar/ActivationFunction/tanh/Categorical_model_10000.h5\n",
        "# !python /content/mycar/manage.py train  --type=rnn      \t--tub=/content/mycar/data/tub10000  \t--model=/content/donkeycar/ActivationFunction/tanh/RNN_LSTM_model_10000.h5\n",
        "# !python /content/mycar/manage.py train  --type=3d       \t--tub=/content/mycar/data/tub10000  \t--model=/content/donkeycar/ActivationFunction/tanh/3DCNN_model_10000.h5\n",
        "# !python /content/mycar/manage.py train  --type=latent     \t--tub=/content/mycar/data/tub10000  \t--model=/content/donkeycar/ActivationFunction/tanh/Latent_model_10000.h5\n",
        "\n",
        "# !python /content/mycar/manage.py train  --type=linear     \t--tub=/content/mycar/data/tub_15000   \t--model=/content/donkeycar/ActivationFunction/tanh/Linear_model_15000.h5\n",
        "# !python /content/mycar/manage.py train  --type=categorical  \t--tub=/content/mycar/data/tub_15000   \t--model=/content/donkeycar/ActivationFunction/tanh/Categorical_model_15000.h5\n",
        "# !python /content/mycar/manage.py train  --type=rnn      \t--tub=/content/mycar/data/tub_15000   \t--model=/content/donkeycar/ActivationFunction/tanh/RNN_LSTM_model_15000.h5\n",
        "# !python /content/mycar/manage.py train  --type=3d       \t--tub=/content/mycar/data/tub_15000   \t--model=/content/donkeycar/ActivationFunction/tanh/3DCNN_model_15000.h5\n",
        "# !python /content/mycar/manage.py train  --type=latent     \t--tub=/content/mycar/data/tub_15000   \t--model=/content/donkeycar/ActivationFunction/tanh/Latent_model_15000.h5\n",
        "\n",
        "# !python /content/mycar/manage.py train  --type=linear     \t--tub=/content/mycar/data/tub_20000   \t--model=/content/donkeycar/ActivationFunction/tanh/Linear_model_20000.h5\n",
        "# !python /content/mycar/manage.py train  --type=categorical  \t--tub=/content/mycar/data/tub_20000   \t--model=/content/donkeycar/ActivationFunction/tanh/Categorical_model_20000.h5\n",
        "# !python /content/mycar/manage.py train  --type=rnn      \t--tub=/content/mycar/data/tub_20000   \t--model=/content/donkeycar/ActivationFunction/tanh/RNN_LSTM_model_20000.h5\n",
        "# !python /content/mycar/manage.py train  --type=3d       \t--tub=/content/mycar/data/tub_20000   \t--model=/content/donkeycar/ActivationFunction/tanh/3DCNN_model_20000.h5\n",
        "# !python /content/mycar/manage.py train  --type=latent     \t--tub=/content/mycar/data/tub_20000   \t--model=/content/donkeycar/ActivationFunction/tanh/Latent_model_20000.h5"
      ],
      "execution_count": null,
      "outputs": []
    },
    {
      "cell_type": "markdown",
      "metadata": {
        "id": "ttpOpReR98t3"
      },
      "source": [
        "# 7 sigmoid"
      ]
    },
    {
      "cell_type": "code",
      "metadata": {
        "id": "jQJlQlNMGlMH"
      },
      "source": [
        "# !cp /content/ActivationFunction/sigmoid/keras.py /content/donkeycar/donkeycar/donkeycar/parts\n",
        "# !rm -rf /content/donkeycar/ActivationFunction/sigmoid\n",
        "# !mkdir /content/donkeycar/ActivationFunction/sigmoid\n",
        "\n",
        "# !python /content/mycar/manage.py train  --type=linear     \t--tub=/content/mycar/data/tub_5000  \t--model=/content/donkeycar/ActivationFunction/sigmoid/Linear_model_5000.h5\n",
        "# !python /content/mycar/manage.py train  --type=categorical  \t--tub=/content/mycar/data/tub_5000  \t--model=/content/donkeycar/ActivationFunction/sigmoid/Categorical_model_5000.h5\n",
        "# !python /content/mycar/manage.py train  --type=rnn      \t--tub=/content/mycar/data/tub_5000  \t--model=/content/donkeycar/ActivationFunction/sigmoid/RNN_LSTM_model_5000.h5\n",
        "# !python /content/mycar/manage.py train  --type=3d       \t--tub=/content/mycar/data/tub_5000  \t--model=/content/donkeycar/ActivationFunction/sigmoid/3DCNN_model_5000.h5\n",
        "# !python /content/mycar/manage.py train  --type=latent     \t--tub=/content/mycar/data/tub_5000  \t--model=/content/donkeycar/ActivationFunction/sigmoid/Latent_model_5000.h5\n",
        "\n",
        "# !python /content/mycar/manage.py train  --type=linear     \t--tub=/content/mycar/data/tub10000  \t--model=/content/donkeycar/ActivationFunction/sigmoid/Linear_model_10000.h5\n",
        "# !python /content/mycar/manage.py train  --type=categorical  \t--tub=/content/mycar/data/tub10000  \t--model=/content/donkeycar/ActivationFunction/sigmoid/Categorical_model_10000.h5\n",
        "# !python /content/mycar/manage.py train  --type=rnn      \t--tub=/content/mycar/data/tub10000  \t--model=/content/donkeycar/ActivationFunction/sigmoid/RNN_LSTM_model_10000.h5\n",
        "# !python /content/mycar/manage.py train  --type=3d       \t--tub=/content/mycar/data/tub10000  \t--model=/content/donkeycar/ActivationFunction/sigmoid/3DCNN_model_10000.h5\n",
        "# !python /content/mycar/manage.py train  --type=latent     \t--tub=/content/mycar/data/tub10000  \t--model=/content/donkeycar/ActivationFunction/sigmoid/Latent_model_10000.h5\n",
        "\n",
        "# !python /content/mycar/manage.py train  --type=linear     \t--tub=/content/mycar/data/tub_15000   \t--model=/content/donkeycar/ActivationFunction/sigmoid/Linear_model_15000.h5\n",
        "# !python /content/mycar/manage.py train  --type=categorical  \t--tub=/content/mycar/data/tub_15000   \t--model=/content/donkeycar/ActivationFunction/sigmoid/Categorical_model_15000.h5\n",
        "# !python /content/mycar/manage.py train  --type=rnn      \t--tub=/content/mycar/data/tub_15000   \t--model=/content/donkeycar/ActivationFunction/sigmoid/RNN_LSTM_model_15000.h5\n",
        "# !python /content/mycar/manage.py train  --type=3d       \t--tub=/content/mycar/data/tub_15000   \t--model=/content/donkeycar/ActivationFunction/sigmoid/3DCNN_model_15000.h5\n",
        "# !python /content/mycar/manage.py train  --type=latent     \t--tub=/content/mycar/data/tub_15000   \t--model=/content/donkeycar/ActivationFunction/sigmoid/Latent_model_15000.h5\n",
        "\n",
        "# !python /content/mycar/manage.py train  --type=linear     \t--tub=/content/mycar/data/tub_20000   \t--model=/content/donkeycar/ActivationFunction/sigmoid/Linear_model_20000.h5\n",
        "# !python /content/mycar/manage.py train  --type=categorical  \t--tub=/content/mycar/data/tub_20000   \t--model=/content/donkeycar/ActivationFunction/sigmoid/Categorical_model_20000.h5\n",
        "# !python /content/mycar/manage.py train  --type=rnn      \t--tub=/content/mycar/data/tub_20000   \t--model=/content/donkeycar/ActivationFunction/sigmoid/RNN_LSTM_model_20000.h5\n",
        "# !python /content/mycar/manage.py train  --type=3d       \t--tub=/content/mycar/data/tub_20000   \t--model=/content/donkeycar/ActivationFunction/sigmoid/3DCNN_model_20000.h5\n",
        "# !python /content/mycar/manage.py train  --type=latent     \t--tub=/content/mycar/data/tub_20000   \t--model=/content/donkeycar/ActivationFunction/sigmoid/Latent_model_20000.h5"
      ],
      "execution_count": null,
      "outputs": []
    },
    {
      "cell_type": "markdown",
      "metadata": {
        "id": "3WBQW7NswdTZ"
      },
      "source": [
        "# 8 hard_sigmoid"
      ]
    },
    {
      "cell_type": "code",
      "metadata": {
        "id": "B-rVyrJVwdhl"
      },
      "source": [
        "# !cp /content/ActivationFunction/hard_sigmoid/keras.py /content/donkeycar/donkeycar/donkeycar/parts\n",
        "# !rm -rf /content/donkeycar/ActivationFunction/hard_sigmoid\n",
        "# !mkdir /content/donkeycar/ActivationFunction/hard_sigmoid\n",
        "\n",
        "# !python /content/mycar/manage.py train  --type=linear     \t--tub=/content/mycar/data/tub_5000  \t--model=/content/donkeycar/ActivationFunction/hard_sigmoid/Linear_model_5000.h5\n",
        "# !python /content/mycar/manage.py train  --type=categorical  \t--tub=/content/mycar/data/tub_5000  \t--model=/content/donkeycar/ActivationFunction/hard_sigmoid/Categorical_model_5000.h5\n",
        "# !python /content/mycar/manage.py train  --type=rnn      \t--tub=/content/mycar/data/tub_5000  \t--model=/content/donkeycar/ActivationFunction/hard_sigmoid/RNN_LSTM_model_5000.h5\n",
        "# !python /content/mycar/manage.py train  --type=3d       \t--tub=/content/mycar/data/tub_5000  \t--model=/content/donkeycar/ActivationFunction/hard_sigmoid/3DCNN_model_5000.h5\n",
        "# !python /content/mycar/manage.py train  --type=latent     \t--tub=/content/mycar/data/tub_5000  \t--model=/content/donkeycar/ActivationFunction/hard_sigmoid/Latent_model_5000.h5\n",
        "\n",
        "# !python /content/mycar/manage.py train  --type=linear     \t--tub=/content/mycar/data/tub10000  \t--model=/content/donkeycar/ActivationFunction/hard_sigmoid/Linear_model_10000.h5\n",
        "# !python /content/mycar/manage.py train  --type=categorical  \t--tub=/content/mycar/data/tub10000  \t--model=/content/donkeycar/ActivationFunction/hard_sigmoid/Categorical_model_10000.h5\n",
        "# !python /content/mycar/manage.py train  --type=rnn      \t--tub=/content/mycar/data/tub10000  \t--model=/content/donkeycar/ActivationFunction/hard_sigmoid/RNN_LSTM_model_10000.h5\n",
        "# !python /content/mycar/manage.py train  --type=3d       \t--tub=/content/mycar/data/tub10000  \t--model=/content/donkeycar/ActivationFunction/hard_sigmoid/3DCNN_model_10000.h5\n",
        "# !python /content/mycar/manage.py train  --type=latent     \t--tub=/content/mycar/data/tub10000  \t--model=/content/donkeycar/ActivationFunction/hard_sigmoid/Latent_model_10000.h5\n",
        "\n",
        "# !python /content/mycar/manage.py train  --type=linear     \t--tub=/content/mycar/data/tub_15000   \t--model=/content/donkeycar/ActivationFunction/hard_sigmoid/Linear_model_15000.h5\n",
        "# !python /content/mycar/manage.py train  --type=categorical  \t--tub=/content/mycar/data/tub_15000   \t--model=/content/donkeycar/ActivationFunction/hard_sigmoid/Categorical_model_15000.h5\n",
        "# !python /content/mycar/manage.py train  --type=rnn      \t--tub=/content/mycar/data/tub_15000   \t--model=/content/donkeycar/ActivationFunction/hard_sigmoid/RNN_LSTM_model_15000.h5\n",
        "# !python /content/mycar/manage.py train  --type=3d       \t--tub=/content/mycar/data/tub_15000   \t--model=/content/donkeycar/ActivationFunction/hard_sigmoid/3DCNN_model_15000.h5\n",
        "# !python /content/mycar/manage.py train  --type=latent     \t--tub=/content/mycar/data/tub_15000   \t--model=/content/donkeycar/ActivationFunction/hard_sigmoid/Latent_model_15000.h5\n",
        "\n",
        "# !python /content/mycar/manage.py train  --type=linear     \t--tub=/content/mycar/data/tub_20000   \t--model=/content/donkeycar/ActivationFunction/hard_sigmoid/Linear_model_20000.h5\n",
        "# !python /content/mycar/manage.py train  --type=categorical  \t--tub=/content/mycar/data/tub_20000   \t--model=/content/donkeycar/ActivationFunction/hard_sigmoid/Categorical_model_20000.h5\n",
        "# !python /content/mycar/manage.py train  --type=rnn      \t--tub=/content/mycar/data/tub_20000   \t--model=/content/donkeycar/ActivationFunction/hard_sigmoid/RNN_LSTM_model_20000.h5\n",
        "# !python /content/mycar/manage.py train  --type=3d       \t--tub=/content/mycar/data/tub_20000   \t--model=/content/donkeycar/ActivationFunction/hard_sigmoid/3DCNN_model_20000.h5\n",
        "# !python /content/mycar/manage.py train  --type=latent     \t--tub=/content/mycar/data/tub_20000   \t--model=/content/donkeycar/ActivationFunction/hard_sigmoid/Latent_model_20000.h5"
      ],
      "execution_count": null,
      "outputs": []
    },
    {
      "cell_type": "markdown",
      "metadata": {
        "id": "_IvpEEGuwIEy"
      },
      "source": [
        "# **Download Files**"
      ]
    },
    {
      "cell_type": "code",
      "metadata": {
        "id": "C1J50xXRaMme"
      },
      "source": [
        "# 压缩下载\n",
        "import os, tarfile\n",
        "import os\n",
        "from google.colab import files\n",
        "def make_targz_one_by_one(output_filename, source_dir):\n",
        "  tar = tarfile.open(output_filename,\"w\")\n",
        "  for root,dir_name,files_list in os.walk(source_dir):\n",
        "    for file in files_list:\n",
        "      pathfile = os.path.join(root, file)\n",
        "      tar.add(pathfile)\n",
        "  tar.close()\n",
        "  files.download(output_filename)\n",
        "make_targz_one_by_one('AA', '/content/donkeycar/categorical_crossentropy')"
      ],
      "execution_count": null,
      "outputs": []
    }
  ]
}