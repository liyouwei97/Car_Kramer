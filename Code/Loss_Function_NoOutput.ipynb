{
  "nbformat": 4,
  "nbformat_minor": 0,
  "metadata": {
    "accelerator": "GPU",
    "colab": {
      "name": "Loss Function",
      "provenance": [],
      "collapsed_sections": [
        "GUUD_jK5xYWF",
        "q7nL_WwjyLls"
      ],
      "include_colab_link": true
    },
    "kernelspec": {
      "display_name": "Python 3",
      "name": "python3"
    },
    "language_info": {
      "name": "python"
    }
  },
  "cells": [
    {
      "cell_type": "markdown",
      "metadata": {
        "id": "view-in-github",
        "colab_type": "text"
      },
      "source": [
        "<a href=\"https://colab.research.google.com/github/liyouwei97/Donkey_Car_lyw/blob/master/Code/Loss_Function_NoOutput.ipynb\" target=\"_parent\"><img src=\"https://colab.research.google.com/assets/colab-badge.svg\" alt=\"Open In Colab\"/></a>"
      ]
    },
    {
      "cell_type": "markdown",
      "metadata": {
        "id": "vLPZ3EIvx2cb"
      },
      "source": [
        "**Donkey Colab 3.1.5 with GPU(TensorFlow 1.13.1)**\n",
        "\n",
        "**Donkey Colab with GPU.**\n",
        "\n",
        "**DonkeyCar version 3.1.1**\n",
        "\n",
        "**TensorFlow 1.13.1**\n",
        "\n",
        "**numpy==1.20.3**\n",
        "\n",
        "**keras==2.6**"
      ]
    },
    {
      "cell_type": "markdown",
      "metadata": {
        "id": "LYmlV7Hxw1WI"
      },
      "source": [
        "# **Modify the environment**"
      ]
    },
    {
      "cell_type": "code",
      "metadata": {
        "id": "AMfdM4fZYdA6"
      },
      "source": [
        "!pip uninstall -y tensorflow\n",
        "!pip install tensorflow-gpu==1.13.1\n",
        "!pip uninstall -y numpy\n",
        "!pip install numpy==1.20.3\n",
        "!pip uninstall -y keras\n",
        "!pip install keras==2.6.0"
      ],
      "execution_count": null,
      "outputs": []
    },
    {
      "cell_type": "markdown",
      "metadata": {
        "id": "vkjbUUI7xA70"
      },
      "source": [
        "# Step 1 从github上下载Donkey car源码"
      ]
    },
    {
      "cell_type": "code",
      "metadata": {
        "id": "ppybFm5nExQN"
      },
      "source": [
        "!git clone https://github.com/liyouwei97/Car_Kramer.git donkeycar\n",
        "%cd donkeycar\n",
        "%cd /content/donkeycar/donkeycar"
      ],
      "execution_count": null,
      "outputs": []
    },
    {
      "cell_type": "markdown",
      "metadata": {
        "id": "qVI1rFycxIh2"
      },
      "source": [
        "# Step 2 安装Donkey car环境"
      ]
    },
    {
      "cell_type": "code",
      "metadata": {
        "id": "D-cZLtEFErmV"
      },
      "source": [
        "!pip3 install -e .[pc]"
      ],
      "execution_count": null,
      "outputs": []
    },
    {
      "cell_type": "markdown",
      "metadata": {
        "id": "qjHRwsBzxMjJ"
      },
      "source": [
        "# Step 3 创建应用程序"
      ]
    },
    {
      "cell_type": "code",
      "metadata": {
        "id": "2KoHkD-iErp7"
      },
      "source": [
        "!donkey createcar --path /content/mycar"
      ],
      "execution_count": null,
      "outputs": []
    },
    {
      "cell_type": "markdown",
      "metadata": {
        "id": "YbQLALzUxUZR"
      },
      "source": [
        "# Step 4 加载数据集"
      ]
    },
    {
      "cell_type": "code",
      "metadata": {
        "id": "IkBs2Ys47XEA"
      },
      "source": [
        "import os\n",
        "from google.colab import drive\n",
        "drive.mount('/content/drive')\n",
        "\n",
        "path = \"/content/drive/My Drive\"\n",
        "\n",
        "os.chdir(path)\n",
        "os.listdir(path)\n",
        "\n",
        "!unzip -uq /content/drive/MyDrive/tub/tub_5000.zip -d /content/mycar/data\n",
        "!unzip -uq /content/drive/MyDrive/tub/tub10000.zip -d /content/mycar/data\n",
        "!unzip -uq /content/drive/MyDrive/tub/tub_15000.zip -d /content/mycar/data\n",
        "!unzip -uq /content/drive/MyDrive/tub/tub_20000.zip -d /content/mycar/data\n",
        "!ls /content/mycar/data"
      ],
      "execution_count": null,
      "outputs": []
    },
    {
      "cell_type": "markdown",
      "metadata": {
        "id": "GUUD_jK5xYWF"
      },
      "source": [
        "# Step 5 开始训练模型(linear|categorical|rnn|3d|latent)5个神经网络模型\n",
        "\n",
        "这一步是进行模型的筛选\n",
        "\n",
        "我们希望找到一个训练表现选对较好模型\n",
        "\n",
        "这边的数据集任然沿用的第一篇文章的数据集\n",
        "\n",
        "目的 作为可能修改的部分为需要作出修改而准备\n",
        "\n",
        "有这个想法的原因是，我解决了通用性，就是别人的代码和我之前使用的代码我同一了下。\n",
        "\n",
        "所以现在两个Donkey car 都可以使用而且效果没有差。"
      ]
    },
    {
      "cell_type": "markdown",
      "metadata": {
        "id": "mlLOWZb3ktQS"
      },
      "source": [
        "原始模型的训练\n",
        "\n",
        "1 原始模型\n",
        "\n",
        "# Experiment 1\n",
        "\n"
      ]
    },
    {
      "cell_type": "code",
      "metadata": {
        "id": "uuY5mFVfALaz"
      },
      "source": [
        "!mkdir /content/donkeycar/Original\n",
        "!rm -rf /content/donkeycar/Original\n",
        "\n",
        "!python /content/mycar/manage.py train  --type=linear     --tub=/content/mycar/data/tub_5000  --model=/content/donkeycar/Original/Linear_model_5000.h5\n",
        "!python /content/mycar/manage.py train  --type=categorical  --tub=/content/mycar/data/tub_5000  --model=/content/donkeycar/Original/Categorical_model_5000.h5\n",
        "!python /content/mycar/manage.py train  --type=rnn      --tub=/content/mycar/data/tub_5000  --model=/content/donkeycar/Original/RNN_LSTM_model_5000.h5\n",
        "!python /content/mycar/manage.py train  --type=3d       --tub=/content/mycar/data/tub_5000  --model=/content/donkeycar/Original/3DCNN_model_5000.h5\n",
        "!python /content/mycar/manage.py train  --type=latent     --tub=/content/mycar/data/tub_5000  --model=/content/donkeycar/Original/Latent_model_5000.h5\n",
        "\n",
        "!python /content/mycar/manage.py train  --type=linear     --tub=/content/mycar/data/tub10000  --model=/content/donkeycar/Original/Linear_model_10000.h5\n",
        "!python /content/mycar/manage.py train  --type=categorical  --tub=/content/mycar/data/tub10000  --model=/content/donkeycar/Original/Categorical_model_10000.h5\n",
        "!python /content/mycar/manage.py train  --type=rnn      --tub=/content/mycar/data/tub10000  --model=/content/donkeycar/Original/RNN_LSTM_model_10000.h5\n",
        "!python /content/mycar/manage.py train  --type=3d       --tub=/content/mycar/data/tub10000  --model=/content/donkeycar/Original/3DCNN_model_10000.h5\n",
        "!python /content/mycar/manage.py train  --type=latent     --tub=/content/mycar/data/tub10000  --model=/content/donkeycar/Original/Latent_model_10000.h5\n",
        "\n",
        "!python /content/mycar/manage.py train  --type=linear     --tub=/content/mycar/data/tub_15000   --model=/content/donkeycar/Original/Linear_model_15000.h5\n",
        "!python /content/mycar/manage.py train  --type=categorical  --tub=/content/mycar/data/tub_15000   --model=/content/donkeycar/Original/Categorical_model_15000.h5\n",
        "!python /content/mycar/manage.py train  --type=rnn      --tub=/content/mycar/data/tub_15000   --model=/content/donkeycar/Original/RNN_LSTM_model_15000.h5\n",
        "!python /content/mycar/manage.py train  --type=3d       --tub=/content/mycar/data/tub_15000   --model=/content/donkeycar/Original/3DCNN_model_15000.h5\n",
        "!python /content/mycar/manage.py train  --type=latent     --tub=/content/mycar/data/tub_15000   --model=/content/donkeycar/Original/Latent_model_15000.h5\n",
        "\n",
        "!python /content/mycar/manage.py train  --type=linear     --tub=/content/mycar/data/tub_20000   --model=/content/donkeycar/Original/Linear_model_20000.h5\n",
        "!python /content/mycar/manage.py train  --type=categorical  --tub=/content/mycar/data/tub_20000   --model=/content/donkeycar/Original/Categorical_model_20000.h5\n",
        "!python /content/mycar/manage.py train  --type=rnn      --tub=/content/mycar/data/tub_20000   --model=/content/donkeycar/Original/RNN_LSTM_model_20000.h5\n",
        "!python /content/mycar/manage.py train  --type=3d       --tub=/content/mycar/data/tub_20000   --model=/content/donkeycar/Original/3DCNN_model_20000.h5\n",
        "!python /content/mycar/manage.py train  --type=latent     --tub=/content/mycar/data/tub_20000   --model=/content/donkeycar/Original/Latent_model_20000.h5"
      ],
      "execution_count": null,
      "outputs": []
    },
    {
      "cell_type": "markdown",
      "metadata": {
        "id": "4Ep54aQRyFfJ"
      },
      "source": [
        "# Losses Function\n",
        "\n",
        "更改原模型使用的损失函数\n",
        "\n",
        "目的：找到更小的训练损失\n",
        "\n",
        "准备阶段代码"
      ]
    },
    {
      "cell_type": "code",
      "metadata": {
        "id": "JCiwMa-ezC68"
      },
      "source": [
        "!unzip -uq /content/donkeycar/Code/LossesFunction.zip -d /content\n",
        "!mkdir /content/donkeycar/LossesFunction"
      ],
      "execution_count": null,
      "outputs": []
    },
    {
      "cell_type": "markdown",
      "metadata": {
        "id": "q7nL_WwjyLls"
      },
      "source": [
        "# Experiment 3"
      ]
    },
    {
      "cell_type": "markdown",
      "metadata": {
        "id": "1p1q8SrdyaXB"
      },
      "source": [
        "# 1 mae"
      ]
    },
    {
      "cell_type": "code",
      "metadata": {
        "id": "6fG5S0q8yRqC"
      },
      "source": [
        "!rm -rf /content/donkeycar/donkeycar/donkeycar/parts/keras.py\n",
        "!cp /content/LossesFunction/mae/keras.py /content/donkeycar/donkeycar/donkeycar/parts\n",
        "!rm -rf /content/donkeycar/LossesFunction/mae\n",
        "!mkdir /content/donkeycar/LossesFunction/mae\n",
        "\n",
        "!python /content/mycar/manage.py train  --type=linear     \t--tub=/content/mycar/data/tub_5000  \t--model=/content/donkeycar/LossesFunction/mae/Linear_model_5000.h5\n",
        "!python /content/mycar/manage.py train  --type=categorical  \t--tub=/content/mycar/data/tub_5000  \t--model=/content/donkeycar/LossesFunction/mae/Categorical_model_5000.h5\n",
        "!python /content/mycar/manage.py train  --type=rnn      \t--tub=/content/mycar/data/tub_5000  \t--model=/content/donkeycar/LossesFunction/mae/RNN_LSTM_model_5000.h5\n",
        "!python /content/mycar/manage.py train  --type=3d       \t--tub=/content/mycar/data/tub_5000  \t--model=/content/donkeycar/LossesFunction/mae/3DCNN_model_5000.h5\n",
        "!python /content/mycar/manage.py train  --type=latent     \t--tub=/content/mycar/data/tub_5000  \t--model=/content/donkeycar/LossesFunction/mae/Latent_model_5000.h5\n",
        "\n",
        "!python /content/mycar/manage.py train  --type=linear     \t--tub=/content/mycar/data/tub10000  \t--model=/content/donkeycar/LossesFunction/mae/Linear_model_10000.h5\n",
        "!python /content/mycar/manage.py train  --type=categorical  \t--tub=/content/mycar/data/tub10000  \t--model=/content/donkeycar/LossesFunction/mae/Categorical_model_10000.h5\n",
        "!python /content/mycar/manage.py train  --type=rnn      \t--tub=/content/mycar/data/tub10000  \t--model=/content/donkeycar/LossesFunction/mae/RNN_LSTM_model_10000.h5\n",
        "!python /content/mycar/manage.py train  --type=3d       \t--tub=/content/mycar/data/tub10000  \t--model=/content/donkeycar/LossesFunction/mae/3DCNN_model_10000.h5\n",
        "!python /content/mycar/manage.py train  --type=latent     \t--tub=/content/mycar/data/tub10000  \t--model=/content/donkeycar/LossesFunction/mae/Latent_model_10000.h5\n",
        "\n",
        "!python /content/mycar/manage.py train  --type=linear     \t--tub=/content/mycar/data/tub_15000   \t--model=/content/donkeycar/LossesFunction/mae/Linear_model_15000.h5\n",
        "!python /content/mycar/manage.py train  --type=categorical  \t--tub=/content/mycar/data/tub_15000   \t--model=/content/donkeycar/LossesFunction/mae/Categorical_model_15000.h5\n",
        "!python /content/mycar/manage.py train  --type=rnn      \t--tub=/content/mycar/data/tub_15000   \t--model=/content/donkeycar/LossesFunction/mae/RNN_LSTM_model_15000.h5\n",
        "!python /content/mycar/manage.py train  --type=3d       \t--tub=/content/mycar/data/tub_15000   \t--model=/content/donkeycar/LossesFunction/mae/3DCNN_model_15000.h5\n",
        "!python /content/mycar/manage.py train  --type=latent     \t--tub=/content/mycar/data/tub_15000   \t--model=/content/donkeycar/LossesFunction/mae/Latent_model_15000.h5\n",
        "\n",
        "!python /content/mycar/manage.py train  --type=linear     \t--tub=/content/mycar/data/tub_20000   \t--model=/content/donkeycar/LossesFunction/mae/Linear_model_20000.h5\n",
        "!python /content/mycar/manage.py train  --type=categorical  \t--tub=/content/mycar/data/tub_20000   \t--model=/content/donkeycar/LossesFunction/mae/Categorical_model_20000.h5\n",
        "!python /content/mycar/manage.py train  --type=rnn      \t--tub=/content/mycar/data/tub_20000   \t--model=/content/donkeycar/LossesFunction/mae/RNN_LSTM_model_20000.h5\n",
        "!python /content/mycar/manage.py train  --type=3d       \t--tub=/content/mycar/data/tub_20000   \t--model=/content/donkeycar/LossesFunction/mae/3DCNN_model_20000.h5\n",
        "!python /content/mycar/manage.py train  --type=latent     \t--tub=/content/mycar/data/tub_20000   \t--model=/content/donkeycar/LossesFunction/mae/Latent_model_20000.h5"
      ],
      "execution_count": null,
      "outputs": []
    },
    {
      "cell_type": "markdown",
      "metadata": {
        "id": "un14F3H-0VRq"
      },
      "source": [
        "# 2 mse"
      ]
    },
    {
      "cell_type": "code",
      "metadata": {
        "id": "UI_0KTcD0VZK"
      },
      "source": [
        "!rm -rf /content/donkeycar/donkeycar/donkeycar/parts/keras.py\n",
        "!cp /content/LossesFunction/mse/keras.py /content/donkeycar/donkeycar/donkeycar/parts\n",
        "!rm -rf /content/donkeycar/LossesFunction/mse\n",
        "!mkdir /content/donkeycar/LossesFunction/mse\n",
        "\n",
        "!python /content/mycar/manage.py train  --type=linear     \t--tub=/content/mycar/data/tub_5000  \t--model=/content/donkeycar/LossesFunction/mse/Linear_model_5000.h5\n",
        "!python /content/mycar/manage.py train  --type=categorical  \t--tub=/content/mycar/data/tub_5000  \t--model=/content/donkeycar/LossesFunction/mse/Categorical_model_5000.h5\n",
        "!python /content/mycar/manage.py train  --type=rnn      \t--tub=/content/mycar/data/tub_5000  \t--model=/content/donkeycar/LossesFunction/mse/RNN_LSTM_model_5000.h5\n",
        "!python /content/mycar/manage.py train  --type=3d       \t--tub=/content/mycar/data/tub_5000  \t--model=/content/donkeycar/LossesFunction/mse/3DCNN_model_5000.h5\n",
        "!python /content/mycar/manage.py train  --type=latent     \t--tub=/content/mycar/data/tub_5000  \t--model=/content/donkeycar/LossesFunction/mse/Latent_model_5000.h5\n",
        "\n",
        "!python /content/mycar/manage.py train  --type=linear     \t--tub=/content/mycar/data/tub10000  \t--model=/content/donkeycar/LossesFunction/mse/Linear_model_10000.h5\n",
        "!python /content/mycar/manage.py train  --type=categorical  \t--tub=/content/mycar/data/tub10000  \t--model=/content/donkeycar/LossesFunction/mse/Categorical_model_10000.h5\n",
        "!python /content/mycar/manage.py train  --type=rnn      \t--tub=/content/mycar/data/tub10000  \t--model=/content/donkeycar/LossesFunction/mse/RNN_LSTM_model_10000.h5\n",
        "!python /content/mycar/manage.py train  --type=3d       \t--tub=/content/mycar/data/tub10000  \t--model=/content/donkeycar/LossesFunction/mse/3DCNN_model_10000.h5\n",
        "!python /content/mycar/manage.py train  --type=latent     \t--tub=/content/mycar/data/tub10000  \t--model=/content/donkeycar/LossesFunction/mse/Latent_model_10000.h5\n",
        "\n",
        "!python /content/mycar/manage.py train  --type=linear     \t--tub=/content/mycar/data/tub_15000   \t--model=/content/donkeycar/LossesFunction/mse/Linear_model_15000.h5\n",
        "!python /content/mycar/manage.py train  --type=categorical  \t--tub=/content/mycar/data/tub_15000   \t--model=/content/donkeycar/LossesFunction/mse/Categorical_model_15000.h5\n",
        "!python /content/mycar/manage.py train  --type=rnn      \t--tub=/content/mycar/data/tub_15000   \t--model=/content/donkeycar/LossesFunction/mse/RNN_LSTM_model_15000.h5\n",
        "!python /content/mycar/manage.py train  --type=3d       \t--tub=/content/mycar/data/tub_15000   \t--model=/content/donkeycar/LossesFunction/mse/3DCNN_model_15000.h5\n",
        "!python /content/mycar/manage.py train  --type=latent     \t--tub=/content/mycar/data/tub_15000   \t--model=/content/donkeycar/LossesFunction/mse/Latent_model_15000.h5\n",
        "\n",
        "!python /content/mycar/manage.py train  --type=linear     \t--tub=/content/mycar/data/tub_20000   \t--model=/content/donkeycar/LossesFunction/mse/Linear_model_20000.h5\n",
        "!python /content/mycar/manage.py train  --type=categorical  \t--tub=/content/mycar/data/tub_20000   \t--model=/content/donkeycar/LossesFunction/mse/Categorical_model_20000.h5\n",
        "!python /content/mycar/manage.py train  --type=rnn      \t--tub=/content/mycar/data/tub_20000   \t--model=/content/donkeycar/LossesFunction/mse/RNN_LSTM_model_20000.h5\n",
        "!python /content/mycar/manage.py train  --type=3d       \t--tub=/content/mycar/data/tub_20000   \t--model=/content/donkeycar/LossesFunction/mse/3DCNN_model_20000.h5\n",
        "!python /content/mycar/manage.py train  --type=latent     \t--tub=/content/mycar/data/tub_20000   \t--model=/content/donkeycar/LossesFunction/mse/Latent_model_20000.h5"
      ],
      "execution_count": null,
      "outputs": []
    },
    {
      "cell_type": "markdown",
      "metadata": {
        "id": "ZxdAU81k1ub-"
      },
      "source": [
        "# 3 categorical_crossentropy"
      ]
    },
    {
      "cell_type": "code",
      "metadata": {
        "id": "9Y5-kk1W1uh7"
      },
      "source": [
        "!rm -rf /content/donkeycar/donkeycar/donkeycar/parts/keras.py\n",
        "!cp /content/LossesFunction/categorical_crossentropy/keras.py /content/donkeycar/donkeycar/donkeycar/parts\n",
        "!rm -rf /content/donkeycar/LossesFunction/categorical_crossentropy\n",
        "!mkdir /content/donkeycar/LossesFunction/categorical_crossentropy\n",
        "\n",
        "!python /content/mycar/manage.py train  --type=linear     \t--tub=/content/mycar/data/tub_5000  \t--model=/content/donkeycar/LossesFunction/categorical_crossentropy/Linear_model_5000.h5\n",
        "!python /content/mycar/manage.py train  --type=categorical  \t--tub=/content/mycar/data/tub_5000  \t--model=/content/donkeycar/LossesFunction/categorical_crossentropy/Categorical_model_5000.h5\n",
        "!python /content/mycar/manage.py train  --type=rnn      \t--tub=/content/mycar/data/tub_5000  \t--model=/content/donkeycar/LossesFunction/categorical_crossentropy/RNN_LSTM_model_5000.h5\n",
        "!python /content/mycar/manage.py train  --type=3d       \t--tub=/content/mycar/data/tub_5000  \t--model=/content/donkeycar/LossesFunction/categorical_crossentropy/3DCNN_model_5000.h5\n",
        "!python /content/mycar/manage.py train  --type=latent     \t--tub=/content/mycar/data/tub_5000  \t--model=/content/donkeycar/LossesFunction/categorical_crossentropy/Latent_model_5000.h5\n",
        "\n",
        "!python /content/mycar/manage.py train  --type=linear     \t--tub=/content/mycar/data/tub10000  \t--model=/content/donkeycar/LossesFunction/categorical_crossentropy/Linear_model_10000.h5\n",
        "!python /content/mycar/manage.py train  --type=categorical  \t--tub=/content/mycar/data/tub10000  \t--model=/content/donkeycar/LossesFunction/categorical_crossentropy/Categorical_model_10000.h5\n",
        "!python /content/mycar/manage.py train  --type=rnn      \t--tub=/content/mycar/data/tub10000  \t--model=/content/donkeycar/LossesFunction/categorical_crossentropy/RNN_LSTM_model_10000.h5\n",
        "!python /content/mycar/manage.py train  --type=3d       \t--tub=/content/mycar/data/tub10000  \t--model=/content/donkeycar/LossesFunction/categorical_crossentropy/3DCNN_model_10000.h5\n",
        "!python /content/mycar/manage.py train  --type=latent     \t--tub=/content/mycar/data/tub10000  \t--model=/content/donkeycar/LossesFunction/categorical_crossentropy/Latent_model_10000.h5\n",
        "\n",
        "!python /content/mycar/manage.py train  --type=linear     \t--tub=/content/mycar/data/tub_15000   \t--model=/content/donkeycar/LossesFunction/categorical_crossentropy/Linear_model_15000.h5\n",
        "!python /content/mycar/manage.py train  --type=categorical  \t--tub=/content/mycar/data/tub_15000   \t--model=/content/donkeycar/LossesFunction/categorical_crossentropy/Categorical_model_15000.h5\n",
        "!python /content/mycar/manage.py train  --type=rnn      \t--tub=/content/mycar/data/tub_15000   \t--model=/content/donkeycar/LossesFunction/categorical_crossentropy/RNN_LSTM_model_15000.h5\n",
        "!python /content/mycar/manage.py train  --type=3d       \t--tub=/content/mycar/data/tub_15000   \t--model=/content/donkeycar/LossesFunction/categorical_crossentropy/3DCNN_model_15000.h5\n",
        "!python /content/mycar/manage.py train  --type=latent     \t--tub=/content/mycar/data/tub_15000   \t--model=/content/donkeycar/LossesFunction/categorical_crossentropy/Latent_model_15000.h5\n",
        "\n",
        "!python /content/mycar/manage.py train  --type=linear     \t--tub=/content/mycar/data/tub_20000   \t--model=/content/donkeycar/LossesFunction/categorical_crossentropy/Linear_model_20000.h5\n",
        "!python /content/mycar/manage.py train  --type=categorical  \t--tub=/content/mycar/data/tub_20000   \t--model=/content/donkeycar/LossesFunction/categorical_crossentropy/Categorical_model_20000.h5\n",
        "!python /content/mycar/manage.py train  --type=rnn      \t--tub=/content/mycar/data/tub_20000   \t--model=/content/donkeycar/LossesFunction/categorical_crossentropy/RNN_LSTM_model_20000.h5\n",
        "!python /content/mycar/manage.py train  --type=3d       \t--tub=/content/mycar/data/tub_20000   \t--model=/content/donkeycar/LossesFunction/categorical_crossentropy/3DCNN_model_20000.h5\n",
        "!python /content/mycar/manage.py train  --type=latent     \t--tub=/content/mycar/data/tub_20000   \t--model=/content/donkeycar/LossesFunction/categorical_crossentropy/Latent_model_20000.h5"
      ],
      "execution_count": null,
      "outputs": []
    },
    {
      "cell_type": "markdown",
      "metadata": {
        "id": "OgzvvL5V1vK6"
      },
      "source": [
        "# 4 categorical_hinge"
      ]
    },
    {
      "cell_type": "code",
      "metadata": {
        "id": "ntyMpxPg1vRS"
      },
      "source": [
        "!rm -rf /content/donkeycar/donkeycar/donkeycar/parts/keras.py\n",
        "!cp /content/LossesFunction/categorical_hinge/keras.py /content/donkeycar/donkeycar/donkeycar/parts\n",
        "!rm -rf /content/donkeycar/LossesFunction/categorical_hinge\n",
        "!mkdir /content/donkeycar/LossesFunction/categorical_hinge\n",
        "\n",
        "!python /content/mycar/manage.py train  --type=linear     \t--tub=/content/mycar/data/tub_5000  \t--model=/content/donkeycar/LossesFunction/categorical_hinge/Linear_model_5000.h5\n",
        "!python /content/mycar/manage.py train  --type=categorical  \t--tub=/content/mycar/data/tub_5000  \t--model=/content/donkeycar/LossesFunction/categorical_hinge/Categorical_model_5000.h5\n",
        "!python /content/mycar/manage.py train  --type=rnn      \t--tub=/content/mycar/data/tub_5000  \t--model=/content/donkeycar/LossesFunction/categorical_hinge/RNN_LSTM_model_5000.h5\n",
        "!python /content/mycar/manage.py train  --type=3d       \t--tub=/content/mycar/data/tub_5000  \t--model=/content/donkeycar/LossesFunction/categorical_hinge/3DCNN_model_5000.h5\n",
        "!python /content/mycar/manage.py train  --type=latent     \t--tub=/content/mycar/data/tub_5000  \t--model=/content/donkeycar/LossesFunction/categorical_hinge/Latent_model_5000.h5\n",
        "\n",
        "!python /content/mycar/manage.py train  --type=linear     \t--tub=/content/mycar/data/tub10000  \t--model=/content/donkeycar/LossesFunction/categorical_hinge/Linear_model_10000.h5\n",
        "!python /content/mycar/manage.py train  --type=categorical  \t--tub=/content/mycar/data/tub10000  \t--model=/content/donkeycar/LossesFunction/categorical_hinge/Categorical_model_10000.h5\n",
        "!python /content/mycar/manage.py train  --type=rnn      \t--tub=/content/mycar/data/tub10000  \t--model=/content/donkeycar/LossesFunction/categorical_hinge/RNN_LSTM_model_10000.h5\n",
        "!python /content/mycar/manage.py train  --type=3d       \t--tub=/content/mycar/data/tub10000  \t--model=/content/donkeycar/LossesFunction/categorical_hinge/3DCNN_model_10000.h5\n",
        "!python /content/mycar/manage.py train  --type=latent     \t--tub=/content/mycar/data/tub10000  \t--model=/content/donkeycar/LossesFunction/categorical_hinge/Latent_model_10000.h5\n",
        "\n",
        "!python /content/mycar/manage.py train  --type=linear     \t--tub=/content/mycar/data/tub_15000   \t--model=/content/donkeycar/LossesFunction/categorical_hinge/Linear_model_15000.h5\n",
        "!python /content/mycar/manage.py train  --type=categorical  \t--tub=/content/mycar/data/tub_15000   \t--model=/content/donkeycar/LossesFunction/categorical_hinge/Categorical_model_15000.h5\n",
        "!python /content/mycar/manage.py train  --type=rnn      \t--tub=/content/mycar/data/tub_15000   \t--model=/content/donkeycar/LossesFunction/categorical_hinge/RNN_LSTM_model_15000.h5\n",
        "!python /content/mycar/manage.py train  --type=3d       \t--tub=/content/mycar/data/tub_15000   \t--model=/content/donkeycar/LossesFunction/categorical_hinge/3DCNN_model_15000.h5\n",
        "!python /content/mycar/manage.py train  --type=latent     \t--tub=/content/mycar/data/tub_15000   \t--model=/content/donkeycar/LossesFunction/categorical_hinge/Latent_model_15000.h5\n",
        "\n",
        "!python /content/mycar/manage.py train  --type=linear     \t--tub=/content/mycar/data/tub_20000   \t--model=/content/donkeycar/LossesFunction/categorical_hinge/Linear_model_20000.h5\n",
        "!python /content/mycar/manage.py train  --type=categorical  \t--tub=/content/mycar/data/tub_20000   \t--model=/content/donkeycar/LossesFunction/categorical_hinge/Categorical_model_20000.h5\n",
        "!python /content/mycar/manage.py train  --type=rnn      \t--tub=/content/mycar/data/tub_20000   \t--model=/content/donkeycar/LossesFunction/categorical_hinge/RNN_LSTM_model_20000.h5\n",
        "!python /content/mycar/manage.py train  --type=3d       \t--tub=/content/mycar/data/tub_20000   \t--model=/content/donkeycar/LossesFunction/categorical_hinge/3DCNN_model_20000.h5\n",
        "!python /content/mycar/manage.py train  --type=latent     \t--tub=/content/mycar/data/tub_20000   \t--model=/content/donkeycar/LossesFunction/categorical_hinge/Latent_model_20000.h5"
      ],
      "execution_count": null,
      "outputs": []
    },
    {
      "cell_type": "markdown",
      "metadata": {
        "id": "H_LCCuq71vZa"
      },
      "source": [
        "# 5 hinge"
      ]
    },
    {
      "cell_type": "code",
      "metadata": {
        "id": "DWyMA3-k1vfk"
      },
      "source": [
        "!rm -rf /content/donkeycar/donkeycar/donkeycar/parts/keras.py\n",
        "!cp /content/LossesFunction/hinge/keras.py /content/donkeycar/donkeycar/donkeycar/parts\n",
        "!rm -rf /content/donkeycar/LossesFunction/hinge\n",
        "!mkdir /content/donkeycar/LossesFunction/hinge\n",
        "\n",
        "!python /content/mycar/manage.py train  --type=linear     \t--tub=/content/mycar/data/tub_5000  \t--model=/content/donkeycar/LossesFunction/hinge/Linear_model_5000.h5\n",
        "!python /content/mycar/manage.py train  --type=categorical  \t--tub=/content/mycar/data/tub_5000  \t--model=/content/donkeycar/LossesFunction/hinge/Categorical_model_5000.h5\n",
        "!python /content/mycar/manage.py train  --type=rnn      \t--tub=/content/mycar/data/tub_5000  \t--model=/content/donkeycar/LossesFunction/hinge/RNN_LSTM_model_5000.h5\n",
        "!python /content/mycar/manage.py train  --type=3d       \t--tub=/content/mycar/data/tub_5000  \t--model=/content/donkeycar/LossesFunction/hinge/3DCNN_model_5000.h5\n",
        "!python /content/mycar/manage.py train  --type=latent     \t--tub=/content/mycar/data/tub_5000  \t--model=/content/donkeycar/LossesFunction/hinge/Latent_model_5000.h5\n",
        "\n",
        "!python /content/mycar/manage.py train  --type=linear     \t--tub=/content/mycar/data/tub10000  \t--model=/content/donkeycar/LossesFunction/hinge/Linear_model_10000.h5\n",
        "!python /content/mycar/manage.py train  --type=categorical  \t--tub=/content/mycar/data/tub10000  \t--model=/content/donkeycar/LossesFunction/hinge/Categorical_model_10000.h5\n",
        "!python /content/mycar/manage.py train  --type=rnn      \t--tub=/content/mycar/data/tub10000  \t--model=/content/donkeycar/LossesFunction/hinge/RNN_LSTM_model_10000.h5\n",
        "!python /content/mycar/manage.py train  --type=3d       \t--tub=/content/mycar/data/tub10000  \t--model=/content/donkeycar/LossesFunction/hinge/3DCNN_model_10000.h5\n",
        "!python /content/mycar/manage.py train  --type=latent     \t--tub=/content/mycar/data/tub10000  \t--model=/content/donkeycar/LossesFunction/hinge/Latent_model_10000.h5\n",
        "\n",
        "!python /content/mycar/manage.py train  --type=linear     \t--tub=/content/mycar/data/tub_15000   \t--model=/content/donkeycar/LossesFunction/hinge/Linear_model_15000.h5\n",
        "!python /content/mycar/manage.py train  --type=categorical  \t--tub=/content/mycar/data/tub_15000   \t--model=/content/donkeycar/LossesFunction/hinge/Categorical_model_15000.h5\n",
        "!python /content/mycar/manage.py train  --type=rnn      \t--tub=/content/mycar/data/tub_15000   \t--model=/content/donkeycar/LossesFunction/hinge/RNN_LSTM_model_15000.h5\n",
        "!python /content/mycar/manage.py train  --type=3d       \t--tub=/content/mycar/data/tub_15000   \t--model=/content/donkeycar/LossesFunction/hinge/3DCNN_model_15000.h5\n",
        "!python /content/mycar/manage.py train  --type=latent     \t--tub=/content/mycar/data/tub_15000   \t--model=/content/donkeycar/LossesFunction/hinge/Latent_model_15000.h5\n",
        "\n",
        "!python /content/mycar/manage.py train  --type=linear     \t--tub=/content/mycar/data/tub_20000   \t--model=/content/donkeycar/LossesFunction/hinge/Linear_model_20000.h5\n",
        "!python /content/mycar/manage.py train  --type=categorical  \t--tub=/content/mycar/data/tub_20000   \t--model=/content/donkeycar/LossesFunction/hinge/Categorical_model_20000.h5\n",
        "!python /content/mycar/manage.py train  --type=rnn      \t--tub=/content/mycar/data/tub_20000   \t--model=/content/donkeycar/LossesFunction/hinge/RNN_LSTM_model_20000.h5\n",
        "!python /content/mycar/manage.py train  --type=3d       \t--tub=/content/mycar/data/tub_20000   \t--model=/content/donkeycar/LossesFunction/hinge/3DCNN_model_20000.h5\n",
        "!python /content/mycar/manage.py train  --type=latent     \t--tub=/content/mycar/data/tub_20000   \t--model=/content/donkeycar/LossesFunction/hinge/Latent_model_20000.h5"
      ],
      "execution_count": null,
      "outputs": []
    },
    {
      "cell_type": "markdown",
      "metadata": {
        "id": "6RFMTN_z1vnf"
      },
      "source": [
        "# 6 cosine_proximity"
      ]
    },
    {
      "cell_type": "code",
      "metadata": {
        "id": "5mH9Kh_g1vuP"
      },
      "source": [
        "!rm -rf /content/donkeycar/donkeycar/donkeycar/parts/keras.py\n",
        "!cp /content/LossesFunction/cosine_proximity/keras.py /content/donkeycar/donkeycar/donkeycar/parts\n",
        "!rm -rf /content/donkeycar/LossesFunction/cosine_proximity\n",
        "!mkdir /content/donkeycar/LossesFunction/cosine_proximity\n",
        "\n",
        "!python /content/mycar/manage.py train  --type=linear     \t--tub=/content/mycar/data/tub_5000  \t--model=/content/donkeycar/LossesFunction/cosine_proximity/Linear_model_5000.h5\n",
        "!python /content/mycar/manage.py train  --type=categorical  \t--tub=/content/mycar/data/tub_5000  \t--model=/content/donkeycar/LossesFunction/cosine_proximity/Categorical_model_5000.h5\n",
        "!python /content/mycar/manage.py train  --type=rnn      \t--tub=/content/mycar/data/tub_5000  \t--model=/content/donkeycar/LossesFunction/cosine_proximity/RNN_LSTM_model_5000.h5\n",
        "!python /content/mycar/manage.py train  --type=3d       \t--tub=/content/mycar/data/tub_5000  \t--model=/content/donkeycar/LossesFunction/cosine_proximity/3DCNN_model_5000.h5\n",
        "!python /content/mycar/manage.py train  --type=latent     \t--tub=/content/mycar/data/tub_5000  \t--model=/content/donkeycar/LossesFunction/cosine_proximity/Latent_model_5000.h5\n",
        "\n",
        "!python /content/mycar/manage.py train  --type=linear     \t--tub=/content/mycar/data/tub10000  \t--model=/content/donkeycar/LossesFunction/cosine_proximity/Linear_model_10000.h5\n",
        "!python /content/mycar/manage.py train  --type=categorical  \t--tub=/content/mycar/data/tub10000  \t--model=/content/donkeycar/LossesFunction/cosine_proximity/Categorical_model_10000.h5\n",
        "!python /content/mycar/manage.py train  --type=rnn      \t--tub=/content/mycar/data/tub10000  \t--model=/content/donkeycar/LossesFunction/cosine_proximity/RNN_LSTM_model_10000.h5\n",
        "!python /content/mycar/manage.py train  --type=3d       \t--tub=/content/mycar/data/tub10000  \t--model=/content/donkeycar/LossesFunction/cosine_proximity/3DCNN_model_10000.h5\n",
        "!python /content/mycar/manage.py train  --type=latent     \t--tub=/content/mycar/data/tub10000  \t--model=/content/donkeycar/LossesFunction/cosine_proximity/Latent_model_10000.h5\n",
        "\n",
        "!python /content/mycar/manage.py train  --type=linear     \t--tub=/content/mycar/data/tub_15000   \t--model=/content/donkeycar/LossesFunction/cosine_proximity/Linear_model_15000.h5\n",
        "!python /content/mycar/manage.py train  --type=categorical  \t--tub=/content/mycar/data/tub_15000   \t--model=/content/donkeycar/LossesFunction/cosine_proximity/Categorical_model_15000.h5\n",
        "!python /content/mycar/manage.py train  --type=rnn      \t--tub=/content/mycar/data/tub_15000   \t--model=/content/donkeycar/LossesFunction/cosine_proximity/RNN_LSTM_model_15000.h5\n",
        "!python /content/mycar/manage.py train  --type=3d       \t--tub=/content/mycar/data/tub_15000   \t--model=/content/donkeycar/LossesFunction/cosine_proximity/3DCNN_model_15000.h5\n",
        "!python /content/mycar/manage.py train  --type=latent     \t--tub=/content/mycar/data/tub_15000   \t--model=/content/donkeycar/LossesFunction/cosine_proximity/Latent_model_15000.h5\n",
        "\n",
        "!python /content/mycar/manage.py train  --type=linear     \t--tub=/content/mycar/data/tub_20000   \t--model=/content/donkeycar/LossesFunction/cosine_proximity/Linear_model_20000.h5\n",
        "!python /content/mycar/manage.py train  --type=categorical  \t--tub=/content/mycar/data/tub_20000   \t--model=/content/donkeycar/LossesFunction/cosine_proximity/Categorical_model_20000.h5\n",
        "!python /content/mycar/manage.py train  --type=rnn      \t--tub=/content/mycar/data/tub_20000   \t--model=/content/donkeycar/LossesFunction/cosine_proximity/RNN_LSTM_model_20000.h5\n",
        "!python /content/mycar/manage.py train  --type=3d       \t--tub=/content/mycar/data/tub_20000   \t--model=/content/donkeycar/LossesFunction/cosine_proximity/3DCNN_model_20000.h5\n",
        "!python /content/mycar/manage.py train  --type=latent     \t--tub=/content/mycar/data/tub_20000   \t--model=/content/donkeycar/LossesFunction/cosine_proximity/Latent_model_20000.h5"
      ],
      "execution_count": null,
      "outputs": []
    },
    {
      "cell_type": "markdown",
      "metadata": {
        "id": "sHXL5Umf1v0k"
      },
      "source": [
        "# 7 logcosh"
      ]
    },
    {
      "cell_type": "code",
      "metadata": {
        "id": "QOsYKVcO1v94"
      },
      "source": [
        "!rm -rf /content/donkeycar/donkeycar/donkeycar/parts/keras.py\n",
        "!cp /content/LossesFunction/logcosh/keras.py /content/donkeycar/donkeycar/donkeycar/parts\n",
        "!rm -rf /content/donkeycar/LossesFunction/logcosh\n",
        "!mkdir /content/donkeycar/LossesFunction/logcosh\n",
        "\n",
        "!python /content/mycar/manage.py train  --type=linear     \t--tub=/content/mycar/data/tub_5000  \t--model=/content/donkeycar/LossesFunction/logcosh/Linear_model_5000.h5\n",
        "!python /content/mycar/manage.py train  --type=categorical  \t--tub=/content/mycar/data/tub_5000  \t--model=/content/donkeycar/LossesFunction/logcosh/Categorical_model_5000.h5\n",
        "!python /content/mycar/manage.py train  --type=rnn      \t--tub=/content/mycar/data/tub_5000  \t--model=/content/donkeycar/LossesFunction/logcosh/RNN_LSTM_model_5000.h5\n",
        "!python /content/mycar/manage.py train  --type=3d       \t--tub=/content/mycar/data/tub_5000  \t--model=/content/donkeycar/LossesFunction/logcosh/3DCNN_model_5000.h5\n",
        "!python /content/mycar/manage.py train  --type=latent     \t--tub=/content/mycar/data/tub_5000  \t--model=/content/donkeycar/LossesFunction/logcosh/Latent_model_5000.h5\n",
        "\n",
        "!python /content/mycar/manage.py train  --type=linear     \t--tub=/content/mycar/data/tub10000  \t--model=/content/donkeycar/LossesFunction/logcosh/Linear_model_10000.h5\n",
        "!python /content/mycar/manage.py train  --type=categorical  \t--tub=/content/mycar/data/tub10000  \t--model=/content/donkeycar/LossesFunction/logcosh/Categorical_model_10000.h5\n",
        "!python /content/mycar/manage.py train  --type=rnn      \t--tub=/content/mycar/data/tub10000  \t--model=/content/donkeycar/LossesFunction/logcosh/RNN_LSTM_model_10000.h5\n",
        "!python /content/mycar/manage.py train  --type=3d       \t--tub=/content/mycar/data/tub10000  \t--model=/content/donkeycar/LossesFunction/logcosh/3DCNN_model_10000.h5\n",
        "!python /content/mycar/manage.py train  --type=latent     \t--tub=/content/mycar/data/tub10000  \t--model=/content/donkeycar/LossesFunction/logcosh/Latent_model_10000.h5\n",
        "\n",
        "!python /content/mycar/manage.py train  --type=linear     \t--tub=/content/mycar/data/tub_15000   \t--model=/content/donkeycar/LossesFunction/logcosh/Linear_model_15000.h5\n",
        "!python /content/mycar/manage.py train  --type=categorical  \t--tub=/content/mycar/data/tub_15000   \t--model=/content/donkeycar/LossesFunction/logcosh/Categorical_model_15000.h5\n",
        "!python /content/mycar/manage.py train  --type=rnn      \t--tub=/content/mycar/data/tub_15000   \t--model=/content/donkeycar/LossesFunction/logcosh/RNN_LSTM_model_15000.h5\n",
        "!python /content/mycar/manage.py train  --type=3d       \t--tub=/content/mycar/data/tub_15000   \t--model=/content/donkeycar/LossesFunction/logcosh/3DCNN_model_15000.h5\n",
        "!python /content/mycar/manage.py train  --type=latent     \t--tub=/content/mycar/data/tub_15000   \t--model=/content/donkeycar/LossesFunction/logcosh/Latent_model_15000.h5\n",
        "\n",
        "!python /content/mycar/manage.py train  --type=linear     \t--tub=/content/mycar/data/tub_20000   \t--model=/content/donkeycar/LossesFunction/logcosh/Linear_model_20000.h5\n",
        "!python /content/mycar/manage.py train  --type=categorical  \t--tub=/content/mycar/data/tub_20000   \t--model=/content/donkeycar/LossesFunction/logcosh/Categorical_model_20000.h5\n",
        "!python /content/mycar/manage.py train  --type=rnn      \t--tub=/content/mycar/data/tub_20000   \t--model=/content/donkeycar/LossesFunction/logcosh/RNN_LSTM_model_20000.h5\n",
        "!python /content/mycar/manage.py train  --type=3d       \t--tub=/content/mycar/data/tub_20000   \t--model=/content/donkeycar/LossesFunction/logcosh/3DCNN_model_20000.h5\n",
        "!python /content/mycar/manage.py train  --type=latent     \t--tub=/content/mycar/data/tub_20000   \t--model=/content/donkeycar/LossesFunction/logcosh/Latent_model_20000.h5"
      ],
      "execution_count": null,
      "outputs": []
    },
    {
      "cell_type": "markdown",
      "metadata": {
        "id": "100qm8Pv1wEh"
      },
      "source": [
        "# 8 msle"
      ]
    },
    {
      "cell_type": "code",
      "metadata": {
        "id": "8SM9qpns1wLa"
      },
      "source": [
        "!rm -rf /content/donkeycar/donkeycar/donkeycar/parts/keras.py\n",
        "!cp /content/LossesFunction/msle/keras.py /content/donkeycar/donkeycar/donkeycar/parts\n",
        "!rm -rf /content/donkeycar/LossesFunction/msle\n",
        "!mkdir /content/donkeycar/LossesFunction/msle\n",
        "\n",
        "!python /content/mycar/manage.py train  --type=linear     \t--tub=/content/mycar/data/tub_5000  \t--model=/content/donkeycar/LossesFunction/msle/Linear_model_5000.h5\n",
        "!python /content/mycar/manage.py train  --type=categorical  \t--tub=/content/mycar/data/tub_5000  \t--model=/content/donkeycar/LossesFunction/msle/Categorical_model_5000.h5\n",
        "!python /content/mycar/manage.py train  --type=rnn      \t--tub=/content/mycar/data/tub_5000  \t--model=/content/donkeycar/LossesFunction/msle/RNN_LSTM_model_5000.h5\n",
        "!python /content/mycar/manage.py train  --type=3d       \t--tub=/content/mycar/data/tub_5000  \t--model=/content/donkeycar/LossesFunction/msle/3DCNN_model_5000.h5\n",
        "!python /content/mycar/manage.py train  --type=latent     \t--tub=/content/mycar/data/tub_5000  \t--model=/content/donkeycar/LossesFunction/msle/Latent_model_5000.h5\n",
        "\n",
        "!python /content/mycar/manage.py train  --type=linear     \t--tub=/content/mycar/data/tub10000  \t--model=/content/donkeycar/LossesFunction/msle/Linear_model_10000.h5\n",
        "!python /content/mycar/manage.py train  --type=categorical  \t--tub=/content/mycar/data/tub10000  \t--model=/content/donkeycar/LossesFunction/msle/Categorical_model_10000.h5\n",
        "!python /content/mycar/manage.py train  --type=rnn      \t--tub=/content/mycar/data/tub10000  \t--model=/content/donkeycar/LossesFunction/msle/RNN_LSTM_model_10000.h5\n",
        "!python /content/mycar/manage.py train  --type=3d       \t--tub=/content/mycar/data/tub10000  \t--model=/content/donkeycar/LossesFunction/msle/3DCNN_model_10000.h5\n",
        "!python /content/mycar/manage.py train  --type=latent     \t--tub=/content/mycar/data/tub10000  \t--model=/content/donkeycar/LossesFunction/msle/Latent_model_10000.h5\n",
        "\n",
        "!python /content/mycar/manage.py train  --type=linear     \t--tub=/content/mycar/data/tub_15000   \t--model=/content/donkeycar/LossesFunction/msle/Linear_model_15000.h5\n",
        "!python /content/mycar/manage.py train  --type=categorical  \t--tub=/content/mycar/data/tub_15000   \t--model=/content/donkeycar/LossesFunction/msle/Categorical_model_15000.h5\n",
        "!python /content/mycar/manage.py train  --type=rnn      \t--tub=/content/mycar/data/tub_15000   \t--model=/content/donkeycar/LossesFunction/msle/RNN_LSTM_model_15000.h5\n",
        "!python /content/mycar/manage.py train  --type=3d       \t--tub=/content/mycar/data/tub_15000   \t--model=/content/donkeycar/LossesFunction/msle/3DCNN_model_15000.h5\n",
        "!python /content/mycar/manage.py train  --type=latent     \t--tub=/content/mycar/data/tub_15000   \t--model=/content/donkeycar/LossesFunction/msle/Latent_model_15000.h5\n",
        "\n",
        "!python /content/mycar/manage.py train  --type=linear     \t--tub=/content/mycar/data/tub_20000   \t--model=/content/donkeycar/LossesFunction/msle/Linear_model_20000.h5\n",
        "!python /content/mycar/manage.py train  --type=categorical  \t--tub=/content/mycar/data/tub_20000   \t--model=/content/donkeycar/LossesFunction/msle/Categorical_model_20000.h5\n",
        "!python /content/mycar/manage.py train  --type=rnn      \t--tub=/content/mycar/data/tub_20000   \t--model=/content/donkeycar/LossesFunction/msle/RNN_LSTM_model_20000.h5\n",
        "!python /content/mycar/manage.py train  --type=3d       \t--tub=/content/mycar/data/tub_20000   \t--model=/content/donkeycar/LossesFunction/msle/3DCNN_model_20000.h5\n",
        "!python /content/mycar/manage.py train  --type=latent     \t--tub=/content/mycar/data/tub_20000   \t--model=/content/donkeycar/LossesFunction/msle/Latent_model_20000.h5"
      ],
      "execution_count": null,
      "outputs": []
    },
    {
      "cell_type": "markdown",
      "metadata": {
        "id": "0jfJG7sx1wS4"
      },
      "source": [
        "# 9 squared_hinge"
      ]
    },
    {
      "cell_type": "code",
      "metadata": {
        "id": "zitCbJ4P1was"
      },
      "source": [
        "!rm -rf /content/donkeycar/donkeycar/donkeycar/parts/keras.py\n",
        "!cp /content/LossesFunction/squared_hinge/keras.py /content/donkeycar/donkeycar/donkeycar/parts\n",
        "!rm -rf /content/donkeycar/LossesFunction/squared_hinge\n",
        "!mkdir /content/donkeycar/LossesFunction/squared_hinge\n",
        "\n",
        "!python /content/mycar/manage.py train  --type=linear     \t--tub=/content/mycar/data/tub_5000  \t--model=/content/donkeycar/LossesFunction/squared_hinge/Linear_model_5000.h5\n",
        "!python /content/mycar/manage.py train  --type=categorical  \t--tub=/content/mycar/data/tub_5000  \t--model=/content/donkeycar/LossesFunction/squared_hinge/Categorical_model_5000.h5\n",
        "!python /content/mycar/manage.py train  --type=rnn      \t--tub=/content/mycar/data/tub_5000  \t--model=/content/donkeycar/LossesFunction/squared_hinge/RNN_LSTM_model_5000.h5\n",
        "!python /content/mycar/manage.py train  --type=3d       \t--tub=/content/mycar/data/tub_5000  \t--model=/content/donkeycar/LossesFunction/squared_hinge/3DCNN_model_5000.h5\n",
        "!python /content/mycar/manage.py train  --type=latent     \t--tub=/content/mycar/data/tub_5000  \t--model=/content/donkeycar/LossesFunction/squared_hinge/Latent_model_5000.h5\n",
        "\n",
        "!python /content/mycar/manage.py train  --type=linear     \t--tub=/content/mycar/data/tub10000  \t--model=/content/donkeycar/LossesFunction/squared_hinge/Linear_model_10000.h5\n",
        "!python /content/mycar/manage.py train  --type=categorical  \t--tub=/content/mycar/data/tub10000  \t--model=/content/donkeycar/LossesFunction/squared_hinge/Categorical_model_10000.h5\n",
        "!python /content/mycar/manage.py train  --type=rnn      \t--tub=/content/mycar/data/tub10000  \t--model=/content/donkeycar/LossesFunction/squared_hinge/RNN_LSTM_model_10000.h5\n",
        "!python /content/mycar/manage.py train  --type=3d       \t--tub=/content/mycar/data/tub10000  \t--model=/content/donkeycar/LossesFunction/squared_hinge/3DCNN_model_10000.h5\n",
        "!python /content/mycar/manage.py train  --type=latent     \t--tub=/content/mycar/data/tub10000  \t--model=/content/donkeycar/LossesFunction/squared_hinge/Latent_model_10000.h5\n",
        "\n",
        "!python /content/mycar/manage.py train  --type=linear     \t--tub=/content/mycar/data/tub_15000   \t--model=/content/donkeycar/LossesFunction/squared_hinge/Linear_model_15000.h5\n",
        "!python /content/mycar/manage.py train  --type=categorical  \t--tub=/content/mycar/data/tub_15000   \t--model=/content/donkeycar/LossesFunction/squared_hinge/Categorical_model_15000.h5\n",
        "!python /content/mycar/manage.py train  --type=rnn      \t--tub=/content/mycar/data/tub_15000   \t--model=/content/donkeycar/LossesFunction/squared_hinge/RNN_LSTM_model_15000.h5\n",
        "!python /content/mycar/manage.py train  --type=3d       \t--tub=/content/mycar/data/tub_15000   \t--model=/content/donkeycar/LossesFunction/squared_hinge/3DCNN_model_15000.h5\n",
        "!python /content/mycar/manage.py train  --type=latent     \t--tub=/content/mycar/data/tub_15000   \t--model=/content/donkeycar/LossesFunction/squared_hinge/Latent_model_15000.h5\n",
        "\n",
        "!python /content/mycar/manage.py train  --type=linear     \t--tub=/content/mycar/data/tub_20000   \t--model=/content/donkeycar/LossesFunction/squared_hinge/Linear_model_20000.h5\n",
        "!python /content/mycar/manage.py train  --type=categorical  \t--tub=/content/mycar/data/tub_20000   \t--model=/content/donkeycar/LossesFunction/squared_hinge/Categorical_model_20000.h5\n",
        "!python /content/mycar/manage.py train  --type=rnn      \t--tub=/content/mycar/data/tub_20000   \t--model=/content/donkeycar/LossesFunction/squared_hinge/RNN_LSTM_model_20000.h5\n",
        "!python /content/mycar/manage.py train  --type=3d       \t--tub=/content/mycar/data/tub_20000   \t--model=/content/donkeycar/LossesFunction/squared_hinge/3DCNN_model_20000.h5\n",
        "!python /content/mycar/manage.py train  --type=latent     \t--tub=/content/mycar/data/tub_20000   \t--model=/content/donkeycar/LossesFunction/squared_hinge/Latent_model_20000.h5"
      ],
      "execution_count": null,
      "outputs": []
    },
    {
      "cell_type": "markdown",
      "metadata": {
        "id": "_IvpEEGuwIEy"
      },
      "source": [
        "# **Download Files**"
      ]
    },
    {
      "cell_type": "code",
      "metadata": {
        "id": "C1J50xXRaMme",
        "colab": {
          "base_uri": "https://localhost:8080/",
          "height": 17
        },
        "outputId": "e513553b-2d10-4c7f-e427-af8a637e7e3c"
      },
      "source": [
        "# 压缩下载\n",
        "import os, tarfile\n",
        "import os\n",
        "from google.colab import files\n",
        "def make_targz_one_by_one(output_filename, source_dir):\n",
        "  tar = tarfile.open(output_filename,\"w\")\n",
        "  for root,dir_name,files_list in os.walk(source_dir):\n",
        "    for file in files_list:\n",
        "      pathfile = os.path.join(root, file)\n",
        "      tar.add(pathfile)\n",
        "  tar.close()\n",
        "  files.download(output_filename)\n",
        "make_targz_one_by_one('LossesFunction1.zip', '/content/donkeycar/LossesFunction')"
      ],
      "execution_count": null,
      "outputs": [
        {
          "output_type": "display_data",
          "data": {
            "application/javascript": [
              "\n",
              "    async function download(id, filename, size) {\n",
              "      if (!google.colab.kernel.accessAllowed) {\n",
              "        return;\n",
              "      }\n",
              "      const div = document.createElement('div');\n",
              "      const label = document.createElement('label');\n",
              "      label.textContent = `Downloading \"${filename}\": `;\n",
              "      div.appendChild(label);\n",
              "      const progress = document.createElement('progress');\n",
              "      progress.max = size;\n",
              "      div.appendChild(progress);\n",
              "      document.body.appendChild(div);\n",
              "\n",
              "      const buffers = [];\n",
              "      let downloaded = 0;\n",
              "\n",
              "      const channel = await google.colab.kernel.comms.open(id);\n",
              "      // Send a message to notify the kernel that we're ready.\n",
              "      channel.send({})\n",
              "\n",
              "      for await (const message of channel.messages) {\n",
              "        // Send a message to notify the kernel that we're ready.\n",
              "        channel.send({})\n",
              "        if (message.buffers) {\n",
              "          for (const buffer of message.buffers) {\n",
              "            buffers.push(buffer);\n",
              "            downloaded += buffer.byteLength;\n",
              "            progress.value = downloaded;\n",
              "          }\n",
              "        }\n",
              "      }\n",
              "      const blob = new Blob(buffers, {type: 'application/binary'});\n",
              "      const a = document.createElement('a');\n",
              "      a.href = window.URL.createObjectURL(blob);\n",
              "      a.download = filename;\n",
              "      div.appendChild(a);\n",
              "      a.click();\n",
              "      div.remove();\n",
              "    }\n",
              "  "
            ],
            "text/plain": [
              "<IPython.core.display.Javascript object>"
            ]
          },
          "metadata": {}
        },
        {
          "output_type": "display_data",
          "data": {
            "application/javascript": [
              "download(\"download_924d0ddf-b913-475f-bd4f-bbc7093f5e03\", \"LossesFunction1.zip\", 90439680)"
            ],
            "text/plain": [
              "<IPython.core.display.Javascript object>"
            ]
          },
          "metadata": {}
        }
      ]
    }
  ]
}